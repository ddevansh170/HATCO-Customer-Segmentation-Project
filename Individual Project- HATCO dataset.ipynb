{
 "cells": [
  {
   "cell_type": "markdown",
   "id": "c1cc7081",
   "metadata": {},
   "source": [
    "# HATCO Customer Segmentation\n",
    "\n",
    "## Problem Statement\n",
    "\n",
    "Hacto dataset was obtained from the Hair, Anderson, and Tatham Company (HATCO), a large (though\n",
    "nonexistent) industrial supplier. It represents surveys of HATCO customers that\n",
    "were collected through an established marketing research firm. \n",
    "The data provided should give HATCO a better understanding of both the\n",
    "characteristics of its customers and the relationships between their perceptions of\n",
    "HATCO and their actions toward HATCO (purchases and satisfaction).\n",
    "\n",
    "## Data Defination\n",
    "\n",
    "The dataset consists of 100 observations on 14 separate variables and is an example of a segmentation study for a B2B situation, specifically a survey of existing customers of HATCO. Three types of information were collected:\n",
    "\n",
    "- First is the perception of HATCO on seven attributes identified in past studies as the most influential in the choice of suppliers. The respondents, purchasing managers of firms buying from HATCO, rated HATCO on each attribute.\n",
    "- Second are actual purchase outcomes, either the evaluations of each respondent's satisfaction with HATCO or the percentage of his or her product purchases from HATCO.\n",
    "- Third are general characteristics of the purchasing companies (e.g., firm size, industry type).\n",
    "\n",
    "#### 1.) Perceptions of HATCO\n",
    "- X1 Delivery speed---amount of time it takes to deliver the product once an order has been confirmed\n",
    "- X2 Price level---perceived level of price charged by product suppliers\n",
    "- X3 Price flexibility---perceived willingness of HATCO representatives to negotiate price on all types of purchases\n",
    "- X4 Manufacturer's image---overall image of the manufacturer/supplier\n",
    "- X5 Service---overall level of service necessary for maintaining a satisfactory relationship between supplier and purchaser\n",
    "- X6 Salesforce's image---overall image of the manufacturer's sales force\n",
    "- X7 Product quality---perceived level of quality of a particular product (e.g., performance or yield) \n",
    "\n",
    "#### 2.) Purchase Outcomes\n",
    "- X9 Usage level---how much of the firm's total product is purchased from HATCO, measured on a 100-point percentage scale, ranging from 0 to 100 percent\n",
    "- X10 Satisfaction level---how satisfied the purchaser is with past purchases from HATCO, measured on the same graphic rating scale as the perceptions X1 to X7\n",
    "\n",
    "#### 3.) Purchaser Characteristics \n",
    "- X8 Size of firm---size of the firm relative to others in this market. This variable has two categories: 1=large, and 0=small\n",
    "- X11 Specification buying---extent to which a particular purchaser evaluates each purchase separately (total value analysis) versus the use of specification buying, which details precisely the product characteristics desired. This variable has two categories: 1=employs total value analysis approach, evaluating each purchase separately, and 0=use of specification buying\n",
    "- X12 Structure of procurement---method of procuring/purchasing products within a particular company. This variable has two categories: 1=centralized procurement, and 0=decentralized procurement\n",
    "- X13 Type of industry---industry classification in which a product purchaser belongs. This variable has two categories: 1=industry A classification, and 0=other industries\n",
    "- X14 Type of buying situation---type of situation facing the purchaser. This variable has three categories: 1=new task, 2=modified rebuy, and 3=straight rebuy \n",
    "\n",
    "## Modeling :-\n",
    "- Multiple linear regression is a the best model when the response variable is numeric in nature. It helps in the prediction of future values from given values of predictors. \n",
    "- In this study X9 Usage level of the customers is predicted using the perception of the Hacto customers.\n",
    "- Then X8 Size of Firm is added to Independent variables to check the change in the robustness of the model for X9 Usage Level.\n",
    "- K-means clustering is used to group/segment customers into distinct groups having similar perception for Hatco customers.\n",
    "\n",
    "## Insights :-\n",
    "- The Usage level of HATCO customers were dependent on the Delivery Speed of the products, Price Level, Price flexibility, Manufacturer’s image, Service for maintaining a satisfactory relationship with purchaser, overall image of HATCO’s sales force and its product quality.\n",
    "- K means clustering with K=2 grouped the customers according to their perception towards their purchase with HATCO in following\n",
    "- Cluster 1 :- Customers whose perception towards HATCO is that they are okay with low delivery speed and high price level, but they demand very permium product quality.\n",
    "- Cluster 2 :- Customers who are looking for high delivery speed with low price level for supplies and high price flexibility.\n",
    "- K means clustering with K=4 grouped the customers according to their perception towards their purchase with HATCO.\n",
    "- Cluster 1:-This group has customers who demand low price level, high price flexibility and they don’t mind if the salesforce’s image and product quality of the supplies is not good.\n",
    "- Cluster 2:-This group has customers who have no issues with low delivery speed, service level for healthy relationship but at the same time they are looking for very high product quality for supplies from HATCO\n",
    "- Cluster 3:- These customers demand high delivery speed, low price level, very high price flexibility and high HATCO’s salesforce image.\n",
    "- Cluster 4:- This group doesn't mind paying high prices, but they want the manufacturer's image to be good along with services they provide should be very satisfactory. They also looking for salesforce’s image and product quality.\n",
    "\n",
    "## Model Performance :-\n",
    "- Linear Regression with predictors X1 to X7 gave R2 value of 77.5, Adj R2 value of 75.8, AIC value of 588.8 and BIC value of 609.7\n",
    "- Linear Regression model with predictors X1 to X8 gave R2 value of 80.2, Adj R2 value of 78.5, AIC value of 577.8 and BIC value of 601.3\n",
    "- Adding Firm Size X8 in the predictors significantly increased the robustness of the model.\n",
    "- K-Means clustering with K= 2 grouped the customers into 2 separate groups with certain characteristics, with Silhouette Score of 35.89\n",
    "- Similarly, K-Means clustering with K= 4 grouped the customers into 4 separate groups with certain characteristics, with Silhouette Score of 33.81\n",
    "\n",
    "## Recommendation :-\n",
    "- Proper marketing strategy could be adopted for each group of customers to increase their perception level towards HATCO.\n",
    "- Expanding into new markets can be costly, but it can increase your client base. Market research will help you understand the potential new market and help you devise a strategy. You'll also need to consider marketing, sales, distribution, and increasing your production to meet the new demand.\n",
    "- Changing your prices, terms, or conditions of billing could stimulate market demand for your products or services. Be aware of what your competitors are offering and what your own profit margins are to determine if you can reduce your cost. If lowering your price isn’t an option, improving a deal with favorable terms can often influence customers.\n",
    "- Always be aware of what your competitors are doing. This information helps you understand their behaviors, capabilities and limitations. If you have this knowledge, you will be better prepared to defend your market position, react to changes, and find new markets.\n",
    "- Increase your presence and visibility in your community. Activities such as sponsoring community events, speaking at engagements, or supporting a local sports team can raise awareness of your business and stimulate sales.\n",
    "- Be aware of the customer's perception of your customer service quality or responsiveness. Positive word of mouth from a happy customer is valuable to your business.\n",
    "\n"
   ]
  },
  {
   "cell_type": "markdown",
   "id": "14fbe871",
   "metadata": {},
   "source": [
    "### Importing Libraries"
   ]
  },
  {
   "cell_type": "code",
   "execution_count": 1,
   "id": "afbcc897",
   "metadata": {},
   "outputs": [],
   "source": [
    "import pandas as pd \n",
    "import numpy as np \n",
    "import seaborn as sns \n",
    "import matplotlib.pyplot as plt \n",
    "import scipy.stats as stats\n",
    "import os\n",
    "\n",
    "import warnings\n",
    "warnings.filterwarnings(\"ignore\")"
   ]
  },
  {
   "cell_type": "code",
   "execution_count": 2,
   "id": "27c8bf44",
   "metadata": {},
   "outputs": [
    {
     "data": {
      "text/plain": [
       "'C:\\\\Users\\\\Lenovo'"
      ]
     },
     "execution_count": 2,
     "metadata": {},
     "output_type": "execute_result"
    }
   ],
   "source": [
    "os.getcwd()"
   ]
  },
  {
   "cell_type": "code",
   "execution_count": 3,
   "id": "2f372746",
   "metadata": {},
   "outputs": [],
   "source": [
    "os.chdir(\"C:/Users/Lenovo/Downloads/Module 6/Predictive Analytics\")"
   ]
  },
  {
   "cell_type": "code",
   "execution_count": 4,
   "id": "404eb74a",
   "metadata": {},
   "outputs": [],
   "source": [
    "df = pd.read_excel(\"Hatco Dataset.xlsx\")"
   ]
  },
  {
   "cell_type": "code",
   "execution_count": 5,
   "id": "216c5a92",
   "metadata": {},
   "outputs": [],
   "source": [
    "pd.set_option(\"display.max_rows\", 50)\n",
    "pd.set_option(\"display.max_columns\",25)"
   ]
  },
  {
   "cell_type": "code",
   "execution_count": 6,
   "id": "52b981bd",
   "metadata": {},
   "outputs": [
    {
     "data": {
      "text/html": [
       "<div>\n",
       "<style scoped>\n",
       "    .dataframe tbody tr th:only-of-type {\n",
       "        vertical-align: middle;\n",
       "    }\n",
       "\n",
       "    .dataframe tbody tr th {\n",
       "        vertical-align: top;\n",
       "    }\n",
       "\n",
       "    .dataframe thead th {\n",
       "        text-align: right;\n",
       "    }\n",
       "</style>\n",
       "<table border=\"1\" class=\"dataframe\">\n",
       "  <thead>\n",
       "    <tr style=\"text-align: right;\">\n",
       "      <th></th>\n",
       "      <th>ID</th>\n",
       "      <th>X1</th>\n",
       "      <th>X2</th>\n",
       "      <th>X3</th>\n",
       "      <th>X4</th>\n",
       "      <th>X5</th>\n",
       "      <th>X6</th>\n",
       "      <th>X7</th>\n",
       "      <th>X8</th>\n",
       "      <th>X9</th>\n",
       "      <th>X10</th>\n",
       "      <th>X11</th>\n",
       "      <th>X12</th>\n",
       "      <th>X13</th>\n",
       "      <th>X14</th>\n",
       "    </tr>\n",
       "  </thead>\n",
       "  <tbody>\n",
       "    <tr>\n",
       "      <th>0</th>\n",
       "      <td>1</td>\n",
       "      <td>4.1</td>\n",
       "      <td>0.6</td>\n",
       "      <td>6.9</td>\n",
       "      <td>4.7</td>\n",
       "      <td>2.4</td>\n",
       "      <td>2.3</td>\n",
       "      <td>5.2</td>\n",
       "      <td>0</td>\n",
       "      <td>32</td>\n",
       "      <td>4.2</td>\n",
       "      <td>1</td>\n",
       "      <td>0</td>\n",
       "      <td>1</td>\n",
       "      <td>1</td>\n",
       "    </tr>\n",
       "    <tr>\n",
       "      <th>1</th>\n",
       "      <td>2</td>\n",
       "      <td>1.8</td>\n",
       "      <td>3.0</td>\n",
       "      <td>6.3</td>\n",
       "      <td>6.6</td>\n",
       "      <td>2.5</td>\n",
       "      <td>4.0</td>\n",
       "      <td>8.4</td>\n",
       "      <td>1</td>\n",
       "      <td>43</td>\n",
       "      <td>4.3</td>\n",
       "      <td>0</td>\n",
       "      <td>1</td>\n",
       "      <td>0</td>\n",
       "      <td>1</td>\n",
       "    </tr>\n",
       "    <tr>\n",
       "      <th>2</th>\n",
       "      <td>3</td>\n",
       "      <td>3.4</td>\n",
       "      <td>5.2</td>\n",
       "      <td>5.7</td>\n",
       "      <td>6.0</td>\n",
       "      <td>4.3</td>\n",
       "      <td>2.7</td>\n",
       "      <td>8.2</td>\n",
       "      <td>1</td>\n",
       "      <td>48</td>\n",
       "      <td>5.2</td>\n",
       "      <td>0</td>\n",
       "      <td>1</td>\n",
       "      <td>1</td>\n",
       "      <td>2</td>\n",
       "    </tr>\n",
       "    <tr>\n",
       "      <th>3</th>\n",
       "      <td>4</td>\n",
       "      <td>2.7</td>\n",
       "      <td>1.0</td>\n",
       "      <td>7.1</td>\n",
       "      <td>5.9</td>\n",
       "      <td>1.8</td>\n",
       "      <td>2.3</td>\n",
       "      <td>7.8</td>\n",
       "      <td>1</td>\n",
       "      <td>32</td>\n",
       "      <td>3.9</td>\n",
       "      <td>0</td>\n",
       "      <td>1</td>\n",
       "      <td>1</td>\n",
       "      <td>1</td>\n",
       "    </tr>\n",
       "    <tr>\n",
       "      <th>4</th>\n",
       "      <td>5</td>\n",
       "      <td>6.0</td>\n",
       "      <td>0.9</td>\n",
       "      <td>9.6</td>\n",
       "      <td>7.8</td>\n",
       "      <td>3.4</td>\n",
       "      <td>4.6</td>\n",
       "      <td>4.5</td>\n",
       "      <td>0</td>\n",
       "      <td>58</td>\n",
       "      <td>6.8</td>\n",
       "      <td>1</td>\n",
       "      <td>0</td>\n",
       "      <td>1</td>\n",
       "      <td>3</td>\n",
       "    </tr>\n",
       "  </tbody>\n",
       "</table>\n",
       "</div>"
      ],
      "text/plain": [
       "   ID   X1   X2   X3   X4   X5   X6   X7  X8  X9  X10  X11  X12  X13  X14\n",
       "0   1  4.1  0.6  6.9  4.7  2.4  2.3  5.2   0  32  4.2    1    0    1    1\n",
       "1   2  1.8  3.0  6.3  6.6  2.5  4.0  8.4   1  43  4.3    0    1    0    1\n",
       "2   3  3.4  5.2  5.7  6.0  4.3  2.7  8.2   1  48  5.2    0    1    1    2\n",
       "3   4  2.7  1.0  7.1  5.9  1.8  2.3  7.8   1  32  3.9    0    1    1    1\n",
       "4   5  6.0  0.9  9.6  7.8  3.4  4.6  4.5   0  58  6.8    1    0    1    3"
      ]
     },
     "execution_count": 6,
     "metadata": {},
     "output_type": "execute_result"
    }
   ],
   "source": [
    "df.head()"
   ]
  },
  {
   "cell_type": "code",
   "execution_count": 7,
   "id": "5ad69235",
   "metadata": {},
   "outputs": [
    {
     "data": {
      "text/plain": [
       "(100, 15)"
      ]
     },
     "execution_count": 7,
     "metadata": {},
     "output_type": "execute_result"
    }
   ],
   "source": [
    "df.shape"
   ]
  },
  {
   "cell_type": "markdown",
   "id": "930ac16a",
   "metadata": {},
   "source": [
    "## Rename variables"
   ]
  },
  {
   "cell_type": "code",
   "execution_count": 8,
   "id": "d2e08345",
   "metadata": {},
   "outputs": [],
   "source": [
    "    # df.rename(columns = {'X1':'Delivery speed', \n",
    "    #                      'X2':'Price level',\n",
    "    #                      'X3':'Price flexibility',\n",
    "    #                      'X4':\"Manufacturer's image\",\n",
    "    #                      'X5':'Service',\n",
    "    #                      'X6':\"Salesforce's image\",\n",
    "    #                      'X7':'Product quality',\n",
    "    #                      'X8':'Size of firm',\n",
    "    #                      'X9':'Usage level',\n",
    "    #                      'X10':'Satisfaction level',\n",
    "    #                      'X11':'Specification buying',\n",
    "    #                      'X12':'Structure of procurement',\n",
    "    #                      'X13':'Type of industry',\n",
    "    #                      'X14':'Type of buying situation'\n",
    "    #                     }, inplace = True)"
   ]
  },
  {
   "cell_type": "code",
   "execution_count": 9,
   "id": "520924f0",
   "metadata": {},
   "outputs": [
    {
     "data": {
      "text/plain": [
       "ID       int64\n",
       "X1     float64\n",
       "X2     float64\n",
       "X3     float64\n",
       "X4     float64\n",
       "X5     float64\n",
       "X6     float64\n",
       "X7     float64\n",
       "X8       int64\n",
       "X9       int64\n",
       "X10    float64\n",
       "X11      int64\n",
       "X12      int64\n",
       "X13      int64\n",
       "X14      int64\n",
       "dtype: object"
      ]
     },
     "execution_count": 9,
     "metadata": {},
     "output_type": "execute_result"
    }
   ],
   "source": [
    "df.dtypes"
   ]
  },
  {
   "cell_type": "markdown",
   "id": "09bae8c0",
   "metadata": {},
   "source": [
    "## Checking Null Values"
   ]
  },
  {
   "cell_type": "code",
   "execution_count": 10,
   "id": "fc65d262",
   "metadata": {},
   "outputs": [
    {
     "data": {
      "text/plain": [
       "ID     0\n",
       "X1     0\n",
       "X2     0\n",
       "X3     0\n",
       "X4     0\n",
       "X5     0\n",
       "X6     0\n",
       "X7     0\n",
       "X8     0\n",
       "X9     0\n",
       "X10    0\n",
       "X11    0\n",
       "X12    0\n",
       "X13    0\n",
       "X14    0\n",
       "dtype: int64"
      ]
     },
     "execution_count": 10,
     "metadata": {},
     "output_type": "execute_result"
    }
   ],
   "source": [
    "df.isna().sum()"
   ]
  },
  {
   "cell_type": "markdown",
   "id": "8759ed85",
   "metadata": {},
   "source": [
    "#### No null values in the dataset"
   ]
  },
  {
   "cell_type": "markdown",
   "id": "c00545b7",
   "metadata": {},
   "source": [
    "## Correct Data types"
   ]
  },
  {
   "cell_type": "code",
   "execution_count": 11,
   "id": "543b2882",
   "metadata": {},
   "outputs": [],
   "source": [
    "df['X8'] = df['X8'].astype('object')\n",
    "df['X11'] = df['X11'].astype('object')\n",
    "df['X12'] = df['X12'].astype('object')\n",
    "df['X13'] = df['X13'].astype('object')\n",
    "df['X14'] = df['X14'].astype('object')"
   ]
  },
  {
   "cell_type": "markdown",
   "id": "ac0f3fa7",
   "metadata": {},
   "source": [
    "#### Converting X8, X11, X12,X13,X14 from numeric to object datatype as the values are binary in nature."
   ]
  },
  {
   "cell_type": "markdown",
   "id": "0423445d",
   "metadata": {},
   "source": [
    "## Checking Number of Outliers"
   ]
  },
  {
   "cell_type": "code",
   "execution_count": 12,
   "id": "c1a3ad97",
   "metadata": {},
   "outputs": [
    {
     "data": {
      "text/plain": [
       "ID     0\n",
       "X1     0\n",
       "X10    0\n",
       "X11    0\n",
       "X12    0\n",
       "X13    0\n",
       "X14    0\n",
       "X2     0\n",
       "X3     0\n",
       "X4     1\n",
       "X5     1\n",
       "X6     4\n",
       "X7     0\n",
       "X8     0\n",
       "X9     0\n",
       "dtype: int64"
      ]
     },
     "execution_count": 12,
     "metadata": {},
     "output_type": "execute_result"
    }
   ],
   "source": [
    "Q1 = df.quantile(0.25)\n",
    "Q3 = df.quantile(0.75)\n",
    "IQR = Q3 - Q1\n",
    "((df < (Q1 - 1.5 * IQR)) | (df > (Q3 + 1.5 * IQR))).sum()"
   ]
  },
  {
   "cell_type": "markdown",
   "id": "07bb9cb4",
   "metadata": {},
   "source": [
    "#### As the number of outliers are insignificant as compared to number of observation, so the outliers are ignored."
   ]
  },
  {
   "cell_type": "markdown",
   "id": "0d9d422c",
   "metadata": {},
   "source": [
    "# Data Visualization"
   ]
  },
  {
   "cell_type": "markdown",
   "id": "3873262d",
   "metadata": {},
   "source": [
    "### Checking distribution for all numeric variables using histogram and realtionship with dependent variable X9 using scatterplot."
   ]
  },
  {
   "cell_type": "markdown",
   "id": "cfb2bc1b",
   "metadata": {},
   "source": [
    "#### X1:Delivery speed"
   ]
  },
  {
   "cell_type": "code",
   "execution_count": 13,
   "id": "bc827c0e",
   "metadata": {},
   "outputs": [
    {
     "data": {
      "text/plain": [
       "<AxesSubplot:xlabel='X1', ylabel='Count'>"
      ]
     },
     "execution_count": 13,
     "metadata": {},
     "output_type": "execute_result"
    },
    {
     "data": {
      "image/png": "[encoded data removed]",
      "text/plain": [
       "<Figure size 432x288 with 1 Axes>"
      ]
     },
     "metadata": {
      "needs_background": "light"
     },
     "output_type": "display_data"
    }
   ],
   "source": [
    "sns.histplot(data=df, x=\"X1\", kde=True)"
   ]
  },
  {
   "cell_type": "code",
   "execution_count": 14,
   "id": "c0a1777c",
   "metadata": {},
   "outputs": [
    {
     "data": {
      "text/plain": [
       "<AxesSubplot:xlabel='X1', ylabel='X9'>"
      ]
     },
     "execution_count": 14,
     "metadata": {},
     "output_type": "execute_result"
    },
    {
     "data": {
      "image/png": "[encoded data removed]",
      "text/plain": [
       "<Figure size 432x288 with 1 Axes>"
      ]
     },
     "metadata": {
      "needs_background": "light"
     },
     "output_type": "display_data"
    }
   ],
   "source": [
    "sns.regplot(data=df,x='X1',y='X9',)"
   ]
  },
  {
   "cell_type": "markdown",
   "id": "63f023ea",
   "metadata": {},
   "source": [
    "#### X2:Price level"
   ]
  },
  {
   "cell_type": "code",
   "execution_count": 15,
   "id": "fb6ac756",
   "metadata": {},
   "outputs": [
    {
     "data": {
      "text/plain": [
       "<AxesSubplot:xlabel='X2', ylabel='Count'>"
      ]
     },
     "execution_count": 15,
     "metadata": {},
     "output_type": "execute_result"
    },
    {
     "data": {
      "image/png": "[encoded data removed]",
      "text/plain": [
       "<Figure size 432x288 with 1 Axes>"
      ]
     },
     "metadata": {
      "needs_background": "light"
     },
     "output_type": "display_data"
    }
   ],
   "source": [
    "sns.histplot(data=df, x=\"X2\", kde=True)"
   ]
  },
  {
   "cell_type": "code",
   "execution_count": 16,
   "id": "ce3f737c",
   "metadata": {},
   "outputs": [
    {
     "data": {
      "text/plain": [
       "<AxesSubplot:xlabel='X2', ylabel='X9'>"
      ]
     },
     "execution_count": 16,
     "metadata": {},
     "output_type": "execute_result"
    },
    {
     "data": {
      "image/png": "[encoded data removed]",
      "text/plain": [
       "<Figure size 432x288 with 1 Axes>"
      ]
     },
     "metadata": {
      "needs_background": "light"
     },
     "output_type": "display_data"
    }
   ],
   "source": [
    "sns.regplot(data=df,x='X2',y='X9',)"
   ]
  },
  {
   "cell_type": "markdown",
   "id": "fe8957a4",
   "metadata": {},
   "source": [
    "#### X3:Price flexibility"
   ]
  },
  {
   "cell_type": "code",
   "execution_count": 17,
   "id": "5d6f6393",
   "metadata": {},
   "outputs": [
    {
     "data": {
      "text/plain": [
       "<AxesSubplot:xlabel='X3', ylabel='Count'>"
      ]
     },
     "execution_count": 17,
     "metadata": {},
     "output_type": "execute_result"
    },
    {
     "data": {
      "image/png": "[encoded data removed]",
      "text/plain": [
       "<Figure size 432x288 with 1 Axes>"
      ]
     },
     "metadata": {
      "needs_background": "light"
     },
     "output_type": "display_data"
    }
   ],
   "source": [
    "sns.histplot(data=df, x=\"X3\", kde=True)"
   ]
  },
  {
   "cell_type": "code",
   "execution_count": 18,
   "id": "c1083c9c",
   "metadata": {},
   "outputs": [
    {
     "data": {
      "text/plain": [
       "<AxesSubplot:xlabel='X3', ylabel='X9'>"
      ]
     },
     "execution_count": 18,
     "metadata": {},
     "output_type": "execute_result"
    },
    {
     "data": {
      "image/png": "[encoded data removed]",
      "text/plain": [
       "<Figure size 432x288 with 1 Axes>"
      ]
     },
     "metadata": {
      "needs_background": "light"
     },
     "output_type": "display_data"
    }
   ],
   "source": [
    "sns.regplot(data=df,x='X3',y='X9',)"
   ]
  },
  {
   "cell_type": "markdown",
   "id": "ebf9cb7e",
   "metadata": {},
   "source": [
    "#### X4:Manufacturer's image"
   ]
  },
  {
   "cell_type": "code",
   "execution_count": 19,
   "id": "b9b20bce",
   "metadata": {},
   "outputs": [
    {
     "data": {
      "text/plain": [
       "<AxesSubplot:xlabel='X4', ylabel='Count'>"
      ]
     },
     "execution_count": 19,
     "metadata": {},
     "output_type": "execute_result"
    },
    {
     "data": {
      "image/png": "[encoded data removed]",
      "text/plain": [
       "<Figure size 432x288 with 1 Axes>"
      ]
     },
     "metadata": {
      "needs_background": "light"
     },
     "output_type": "display_data"
    }
   ],
   "source": [
    "sns.histplot(data=df, x=\"X4\", kde=True)"
   ]
  },
  {
   "cell_type": "code",
   "execution_count": 20,
   "id": "4db4a622",
   "metadata": {},
   "outputs": [
    {
     "data": {
      "text/plain": [
       "<AxesSubplot:xlabel='X4', ylabel='X9'>"
      ]
     },
     "execution_count": 20,
     "metadata": {},
     "output_type": "execute_result"
    },
    {
     "data": {
      "image/png": "[encoded data removed]",
      "text/plain": [
       "<Figure size 432x288 with 1 Axes>"
      ]
     },
     "metadata": {
      "needs_background": "light"
     },
     "output_type": "display_data"
    }
   ],
   "source": [
    "sns.regplot(data=df,x='X4',y='X9',)"
   ]
  },
  {
   "cell_type": "markdown",
   "id": "c8a7d85d",
   "metadata": {},
   "source": [
    "#### X5:Service"
   ]
  },
  {
   "cell_type": "code",
   "execution_count": 21,
   "id": "85c7bd2e",
   "metadata": {},
   "outputs": [
    {
     "data": {
      "text/plain": [
       "<AxesSubplot:xlabel='X5', ylabel='Count'>"
      ]
     },
     "execution_count": 21,
     "metadata": {},
     "output_type": "execute_result"
    },
    {
     "data": {
      "image/png": "[encoded data removed]",
      "text/plain": [
       "<Figure size 432x288 with 1 Axes>"
      ]
     },
     "metadata": {
      "needs_background": "light"
     },
     "output_type": "display_data"
    }
   ],
   "source": [
    "sns.histplot(data=df, x=\"X5\", kde=True)"
   ]
  },
  {
   "cell_type": "code",
   "execution_count": 22,
   "id": "02d21e37",
   "metadata": {},
   "outputs": [
    {
     "data": {
      "text/plain": [
       "<AxesSubplot:xlabel='X5', ylabel='X9'>"
      ]
     },
     "execution_count": 22,
     "metadata": {},
     "output_type": "execute_result"
    },
    {
     "data": {
      "image/png": "[encoded data removed]",
      "text/plain": [
       "<Figure size 432x288 with 1 Axes>"
      ]
     },
     "metadata": {
      "needs_background": "light"
     },
     "output_type": "display_data"
    }
   ],
   "source": [
    "sns.regplot(data=df,x='X5',y='X9',)"
   ]
  },
  {
   "cell_type": "markdown",
   "id": "7e14c966",
   "metadata": {},
   "source": [
    "#### X6:Salesforce's image"
   ]
  },
  {
   "cell_type": "code",
   "execution_count": 23,
   "id": "f4465573",
   "metadata": {},
   "outputs": [
    {
     "data": {
      "text/plain": [
       "<AxesSubplot:xlabel='X6', ylabel='Count'>"
      ]
     },
     "execution_count": 23,
     "metadata": {},
     "output_type": "execute_result"
    },
    {
     "data": {
      "image/png": "[encoded data removed]",
      "text/plain": [
       "<Figure size 432x288 with 1 Axes>"
      ]
     },
     "metadata": {
      "needs_background": "light"
     },
     "output_type": "display_data"
    }
   ],
   "source": [
    "sns.histplot(data=df, x=\"X6\", kde=True)"
   ]
  },
  {
   "cell_type": "code",
   "execution_count": 24,
   "id": "dcbec554",
   "metadata": {},
   "outputs": [
    {
     "data": {
      "text/plain": [
       "<AxesSubplot:xlabel='X6', ylabel='X9'>"
      ]
     },
     "execution_count": 24,
     "metadata": {},
     "output_type": "execute_result"
    },
    {
     "data": {
      "image/png": "[encoded data removed]",
      "text/plain": [
       "<Figure size 432x288 with 1 Axes>"
      ]
     },
     "metadata": {
      "needs_background": "light"
     },
     "output_type": "display_data"
    }
   ],
   "source": [
    "sns.regplot(data=df,x='X6',y='X9',)"
   ]
  },
  {
   "cell_type": "markdown",
   "id": "03abe049",
   "metadata": {},
   "source": [
    "#### X7:Product quality"
   ]
  },
  {
   "cell_type": "code",
   "execution_count": 25,
   "id": "696376c7",
   "metadata": {},
   "outputs": [
    {
     "data": {
      "text/plain": [
       "<AxesSubplot:xlabel='X7', ylabel='Count'>"
      ]
     },
     "execution_count": 25,
     "metadata": {},
     "output_type": "execute_result"
    },
    {
     "data": {
      "image/png": "[encoded data removed]",
      "text/plain": [
       "<Figure size 432x288 with 1 Axes>"
      ]
     },
     "metadata": {
      "needs_background": "light"
     },
     "output_type": "display_data"
    }
   ],
   "source": [
    "sns.histplot(data=df, x=\"X7\", kde=True)"
   ]
  },
  {
   "cell_type": "code",
   "execution_count": 26,
   "id": "92866b9b",
   "metadata": {},
   "outputs": [
    {
     "data": {
      "text/plain": [
       "<AxesSubplot:xlabel='X7', ylabel='X9'>"
      ]
     },
     "execution_count": 26,
     "metadata": {},
     "output_type": "execute_result"
    },
    {
     "data": {
      "image/png": "[encoded data removed]",
      "text/plain": [
       "<Figure size 432x288 with 1 Axes>"
      ]
     },
     "metadata": {
      "needs_background": "light"
     },
     "output_type": "display_data"
    }
   ],
   "source": [
    "sns.regplot(data=df,x='X7',y='X9',)"
   ]
  },
  {
   "cell_type": "markdown",
   "id": "0d4002e9",
   "metadata": {},
   "source": [
    "#### X8:Size of firm"
   ]
  },
  {
   "cell_type": "code",
   "execution_count": 27,
   "id": "de376427",
   "metadata": {},
   "outputs": [
    {
     "data": {
      "text/plain": [
       "<AxesSubplot:xlabel='X8', ylabel='count'>"
      ]
     },
     "execution_count": 27,
     "metadata": {},
     "output_type": "execute_result"
    },
    {
     "data": {
      "image/png": "[encoded data removed]",
      "text/plain": [
       "<Figure size 432x288 with 1 Axes>"
      ]
     },
     "metadata": {
      "needs_background": "light"
     },
     "output_type": "display_data"
    }
   ],
   "source": [
    "sns.countplot(x=df[\"X8\"])\n",
    "# 1=large, and 0=small"
   ]
  },
  {
   "cell_type": "markdown",
   "id": "5ddc6c21",
   "metadata": {},
   "source": [
    "#### X11:Specification buying"
   ]
  },
  {
   "cell_type": "code",
   "execution_count": 28,
   "id": "f19820f9",
   "metadata": {},
   "outputs": [
    {
     "data": {
      "text/plain": [
       "<AxesSubplot:xlabel='X11', ylabel='count'>"
      ]
     },
     "execution_count": 28,
     "metadata": {},
     "output_type": "execute_result"
    },
    {
     "data": {
      "image/png": "[encoded data removed]",
      "text/plain": [
       "<Figure size 432x288 with 1 Axes>"
      ]
     },
     "metadata": {
      "needs_background": "light"
     },
     "output_type": "display_data"
    }
   ],
   "source": [
    "sns.countplot(x=df[\"X11\"])\n",
    "# 1=employs total value analysis approach, evaluating each purchase separately, and 0=use of specification buying"
   ]
  },
  {
   "cell_type": "markdown",
   "id": "10672f28",
   "metadata": {},
   "source": [
    "#### X12:Structure of procurement"
   ]
  },
  {
   "cell_type": "code",
   "execution_count": 29,
   "id": "1a7bf65e",
   "metadata": {},
   "outputs": [
    {
     "data": {
      "text/plain": [
       "<AxesSubplot:xlabel='X12', ylabel='count'>"
      ]
     },
     "execution_count": 29,
     "metadata": {},
     "output_type": "execute_result"
    },
    {
     "data": {
      "image/png": "[encoded data removed]",
      "text/plain": [
       "<Figure size 432x288 with 1 Axes>"
      ]
     },
     "metadata": {
      "needs_background": "light"
     },
     "output_type": "display_data"
    }
   ],
   "source": [
    "sns.countplot(x=df[\"X12\"])\n",
    "# 1=centralized procurement, and 0=decentralized procurement"
   ]
  },
  {
   "cell_type": "markdown",
   "id": "4fd3dd9d",
   "metadata": {},
   "source": [
    "#### X13:Type of industry"
   ]
  },
  {
   "cell_type": "code",
   "execution_count": 30,
   "id": "bb278436",
   "metadata": {},
   "outputs": [
    {
     "data": {
      "text/plain": [
       "<AxesSubplot:xlabel='X13', ylabel='count'>"
      ]
     },
     "execution_count": 30,
     "metadata": {},
     "output_type": "execute_result"
    },
    {
     "data": {
      "image/png": "[encoded data removed]",
      "text/plain": [
       "<Figure size 432x288 with 1 Axes>"
      ]
     },
     "metadata": {
      "needs_background": "light"
     },
     "output_type": "display_data"
    }
   ],
   "source": [
    "sns.countplot(x=df[\"X13\"])\n",
    "# 1=industry A classification, and 0=other industries"
   ]
  },
  {
   "cell_type": "markdown",
   "id": "8b733d27",
   "metadata": {},
   "source": [
    "#### X14:Type of buying situation"
   ]
  },
  {
   "cell_type": "code",
   "execution_count": 31,
   "id": "57dd321e",
   "metadata": {},
   "outputs": [
    {
     "data": {
      "text/plain": [
       "<AxesSubplot:xlabel='X14', ylabel='count'>"
      ]
     },
     "execution_count": 31,
     "metadata": {},
     "output_type": "execute_result"
    },
    {
     "data": {
      "image/png": "[encoded data removed]",
      "text/plain": [
       "<Figure size 432x288 with 1 Axes>"
      ]
     },
     "metadata": {
      "needs_background": "light"
     },
     "output_type": "display_data"
    }
   ],
   "source": [
    "sns.countplot(x=df[\"X14\"])\n",
    "# 1=new task, 2=modified rebuy, and 3=straight rebuy "
   ]
  },
  {
   "cell_type": "code",
   "execution_count": 32,
   "id": "ef379ce2",
   "metadata": {},
   "outputs": [],
   "source": [
    "data_1 = df.loc[ :,['X1','X2','X3','X4','X5','X6','X7','X9']]\n",
    "\n",
    "predictors_1 = df.loc[:,['X1','X2','X3','X4','X5','X6','X7']] \n",
    "# Independent variables \n",
    "response_1 = df.loc[:,['X9']] \n",
    "# Dependent Variable"
   ]
  },
  {
   "cell_type": "markdown",
   "id": "278b6336",
   "metadata": {},
   "source": [
    "# Multicollinearity Test"
   ]
  },
  {
   "cell_type": "code",
   "execution_count": 33,
   "id": "f22ea03b",
   "metadata": {},
   "outputs": [
    {
     "data": {
      "image/png": "[encoded data removed]",
      "text/plain": [
       "<Figure size 720x504 with 2 Axes>"
      ]
     },
     "metadata": {
      "needs_background": "light"
     },
     "output_type": "display_data"
    }
   ],
   "source": [
    "import matplotlib.pyplot as plt\n",
    "import seaborn as sns\n",
    "plt.figure(figsize=(10,7))\n",
    "sns.heatmap(predictors_1.corr(), annot=True, vmin=-1, vmax=1)\n",
    "plt.title('Correlation Coefficient Of Predictors')\n",
    "plt.show()"
   ]
  },
  {
   "cell_type": "markdown",
   "id": "47dac265",
   "metadata": {},
   "source": [
    "### High Correlation between X4 - X6"
   ]
  },
  {
   "cell_type": "code",
   "execution_count": 34,
   "id": "1568901a",
   "metadata": {},
   "outputs": [],
   "source": [
    "from statsmodels.stats.outliers_influence import variance_inflation_factor\n",
    "from statsmodels.tools.tools import add_constant\n",
    "def compute_vif(considered_features):    \n",
    "    v = data_1[considered_features]\n",
    "    v['intercept'] = 1   \n",
    "    vif = pd.DataFrame()\n",
    "    vif[\"Variable\"] = v.columns\n",
    "    vif[\"VIF\"] = [variance_inflation_factor(v.values, i) for i in range(v.shape[1])]\n",
    "    vif = vif[vif['Variable']!= 'intercept']\n",
    "    return vif"
   ]
  },
  {
   "cell_type": "code",
   "execution_count": 35,
   "id": "e7219a6b",
   "metadata": {},
   "outputs": [
    {
     "data": {
      "text/html": [
       "<div>\n",
       "<style scoped>\n",
       "    .dataframe tbody tr th:only-of-type {\n",
       "        vertical-align: middle;\n",
       "    }\n",
       "\n",
       "    .dataframe tbody tr th {\n",
       "        vertical-align: top;\n",
       "    }\n",
       "\n",
       "    .dataframe thead th {\n",
       "        text-align: right;\n",
       "    }\n",
       "</style>\n",
       "<table border=\"1\" class=\"dataframe\">\n",
       "  <thead>\n",
       "    <tr style=\"text-align: right;\">\n",
       "      <th></th>\n",
       "      <th>Variable</th>\n",
       "      <th>VIF</th>\n",
       "    </tr>\n",
       "  </thead>\n",
       "  <tbody>\n",
       "    <tr>\n",
       "      <th>4</th>\n",
       "      <td>X5</td>\n",
       "      <td>43.834228</td>\n",
       "    </tr>\n",
       "    <tr>\n",
       "      <th>0</th>\n",
       "      <td>X1</td>\n",
       "      <td>35.746811</td>\n",
       "    </tr>\n",
       "    <tr>\n",
       "      <th>1</th>\n",
       "      <td>X2</td>\n",
       "      <td>31.597377</td>\n",
       "    </tr>\n",
       "    <tr>\n",
       "      <th>3</th>\n",
       "      <td>X4</td>\n",
       "      <td>2.879474</td>\n",
       "    </tr>\n",
       "    <tr>\n",
       "      <th>5</th>\n",
       "      <td>X6</td>\n",
       "      <td>2.696942</td>\n",
       "    </tr>\n",
       "    <tr>\n",
       "      <th>2</th>\n",
       "      <td>X3</td>\n",
       "      <td>1.644718</td>\n",
       "    </tr>\n",
       "    <tr>\n",
       "      <th>6</th>\n",
       "      <td>X7</td>\n",
       "      <td>1.606105</td>\n",
       "    </tr>\n",
       "  </tbody>\n",
       "</table>\n",
       "</div>"
      ],
      "text/plain": [
       "  Variable        VIF\n",
       "4       X5  43.834228\n",
       "0       X1  35.746811\n",
       "1       X2  31.597377\n",
       "3       X4   2.879474\n",
       "5       X6   2.696942\n",
       "2       X3   1.644718\n",
       "6       X7   1.606105"
      ]
     },
     "execution_count": 35,
     "metadata": {},
     "output_type": "execute_result"
    }
   ],
   "source": [
    "considered_features_1 = ['X1', 'X2', 'X3', 'X4', 'X5', 'X6', 'X7']\n",
    "compute_vif(considered_features_1).sort_values('VIF', ascending=False)"
   ]
  },
  {
   "cell_type": "markdown",
   "id": "953a5643",
   "metadata": {},
   "source": [
    "#### Remove variable X5"
   ]
  },
  {
   "cell_type": "markdown",
   "id": "9a99a8ae",
   "metadata": {},
   "source": [
    "### Itteration -2 "
   ]
  },
  {
   "cell_type": "code",
   "execution_count": 36,
   "id": "af78ebd0",
   "metadata": {},
   "outputs": [
    {
     "data": {
      "text/html": [
       "<div>\n",
       "<style scoped>\n",
       "    .dataframe tbody tr th:only-of-type {\n",
       "        vertical-align: middle;\n",
       "    }\n",
       "\n",
       "    .dataframe tbody tr th {\n",
       "        vertical-align: top;\n",
       "    }\n",
       "\n",
       "    .dataframe thead th {\n",
       "        text-align: right;\n",
       "    }\n",
       "</style>\n",
       "<table border=\"1\" class=\"dataframe\">\n",
       "  <thead>\n",
       "    <tr style=\"text-align: right;\">\n",
       "      <th></th>\n",
       "      <th>Variable</th>\n",
       "      <th>VIF</th>\n",
       "    </tr>\n",
       "  </thead>\n",
       "  <tbody>\n",
       "    <tr>\n",
       "      <th>3</th>\n",
       "      <td>X4</td>\n",
       "      <td>2.793456</td>\n",
       "    </tr>\n",
       "    <tr>\n",
       "      <th>4</th>\n",
       "      <td>X6</td>\n",
       "      <td>2.689731</td>\n",
       "    </tr>\n",
       "    <tr>\n",
       "      <th>2</th>\n",
       "      <td>X3</td>\n",
       "      <td>1.631019</td>\n",
       "    </tr>\n",
       "    <tr>\n",
       "      <th>5</th>\n",
       "      <td>X7</td>\n",
       "      <td>1.593775</td>\n",
       "    </tr>\n",
       "    <tr>\n",
       "      <th>0</th>\n",
       "      <td>X1</td>\n",
       "      <td>1.589470</td>\n",
       "    </tr>\n",
       "    <tr>\n",
       "      <th>1</th>\n",
       "      <td>X2</td>\n",
       "      <td>1.539499</td>\n",
       "    </tr>\n",
       "  </tbody>\n",
       "</table>\n",
       "</div>"
      ],
      "text/plain": [
       "  Variable       VIF\n",
       "3       X4  2.793456\n",
       "4       X6  2.689731\n",
       "2       X3  1.631019\n",
       "5       X7  1.593775\n",
       "0       X1  1.589470\n",
       "1       X2  1.539499"
      ]
     },
     "execution_count": 36,
     "metadata": {},
     "output_type": "execute_result"
    }
   ],
   "source": [
    "considered_features_2 = ['X1', 'X2', 'X3', 'X4', 'X6', 'X7']\n",
    "compute_vif(considered_features_2).sort_values('VIF', ascending=False)"
   ]
  },
  {
   "cell_type": "markdown",
   "id": "4eb98560",
   "metadata": {},
   "source": [
    "# K Means Clustering"
   ]
  },
  {
   "cell_type": "code",
   "execution_count": 37,
   "id": "af1bf606",
   "metadata": {},
   "outputs": [
    {
     "data": {
      "image/png": "[encoded data removed]",
      "text/plain": [
       "<Figure size 864x432 with 1 Axes>"
      ]
     },
     "metadata": {
      "needs_background": "light"
     },
     "output_type": "display_data"
    }
   ],
   "source": [
    "from sklearn.cluster import KMeans\n",
    "wcss = []\n",
    "for k in range(2,11):\n",
    "    kmeans = KMeans(n_clusters=k, init=\"k-means++\",random_state=42)\n",
    "    kmeans.fit(df)\n",
    "    wcss.append(kmeans.inertia_)\n",
    "plt.figure(figsize=(12,6))    \n",
    "plt.grid()\n",
    "plt.plot(range(2,11),wcss, linewidth=3, color=\"red\", marker =\"8\")\n",
    "plt.xlabel(\"K Value\")\n",
    "plt.xticks(np.arange(1,11,1))\n",
    "plt.ylabel(\"WCSS\")\n",
    "plt.title(\"Elbow plot for optimal number of clusters\")\n",
    "plt.show()"
   ]
  },
  {
   "cell_type": "markdown",
   "id": "3aec4132",
   "metadata": {},
   "source": [
    "# 2 - Mean clustering"
   ]
  },
  {
   "cell_type": "code",
   "execution_count": 38,
   "id": "c5594b0b",
   "metadata": {},
   "outputs": [
    {
     "data": {
      "text/html": [
       "<div>\n",
       "<style scoped>\n",
       "    .dataframe tbody tr th:only-of-type {\n",
       "        vertical-align: middle;\n",
       "    }\n",
       "\n",
       "    .dataframe tbody tr th {\n",
       "        vertical-align: top;\n",
       "    }\n",
       "\n",
       "    .dataframe thead th {\n",
       "        text-align: right;\n",
       "    }\n",
       "</style>\n",
       "<table border=\"1\" class=\"dataframe\">\n",
       "  <thead>\n",
       "    <tr style=\"text-align: right;\">\n",
       "      <th></th>\n",
       "      <th>X1</th>\n",
       "      <th>X2</th>\n",
       "      <th>X3</th>\n",
       "      <th>X4</th>\n",
       "      <th>X5</th>\n",
       "      <th>X6</th>\n",
       "      <th>X7</th>\n",
       "      <th>label2</th>\n",
       "    </tr>\n",
       "  </thead>\n",
       "  <tbody>\n",
       "    <tr>\n",
       "      <th>0</th>\n",
       "      <td>4.1</td>\n",
       "      <td>0.6</td>\n",
       "      <td>6.9</td>\n",
       "      <td>4.7</td>\n",
       "      <td>2.4</td>\n",
       "      <td>2.3</td>\n",
       "      <td>5.2</td>\n",
       "      <td>1</td>\n",
       "    </tr>\n",
       "    <tr>\n",
       "      <th>1</th>\n",
       "      <td>1.8</td>\n",
       "      <td>3.0</td>\n",
       "      <td>6.3</td>\n",
       "      <td>6.6</td>\n",
       "      <td>2.5</td>\n",
       "      <td>4.0</td>\n",
       "      <td>8.4</td>\n",
       "      <td>0</td>\n",
       "    </tr>\n",
       "    <tr>\n",
       "      <th>2</th>\n",
       "      <td>3.4</td>\n",
       "      <td>5.2</td>\n",
       "      <td>5.7</td>\n",
       "      <td>6.0</td>\n",
       "      <td>4.3</td>\n",
       "      <td>2.7</td>\n",
       "      <td>8.2</td>\n",
       "      <td>0</td>\n",
       "    </tr>\n",
       "    <tr>\n",
       "      <th>3</th>\n",
       "      <td>2.7</td>\n",
       "      <td>1.0</td>\n",
       "      <td>7.1</td>\n",
       "      <td>5.9</td>\n",
       "      <td>1.8</td>\n",
       "      <td>2.3</td>\n",
       "      <td>7.8</td>\n",
       "      <td>0</td>\n",
       "    </tr>\n",
       "    <tr>\n",
       "      <th>4</th>\n",
       "      <td>6.0</td>\n",
       "      <td>0.9</td>\n",
       "      <td>9.6</td>\n",
       "      <td>7.8</td>\n",
       "      <td>3.4</td>\n",
       "      <td>4.6</td>\n",
       "      <td>4.5</td>\n",
       "      <td>1</td>\n",
       "    </tr>\n",
       "    <tr>\n",
       "      <th>...</th>\n",
       "      <td>...</td>\n",
       "      <td>...</td>\n",
       "      <td>...</td>\n",
       "      <td>...</td>\n",
       "      <td>...</td>\n",
       "      <td>...</td>\n",
       "      <td>...</td>\n",
       "      <td>...</td>\n",
       "    </tr>\n",
       "    <tr>\n",
       "      <th>95</th>\n",
       "      <td>0.6</td>\n",
       "      <td>1.6</td>\n",
       "      <td>6.4</td>\n",
       "      <td>5.0</td>\n",
       "      <td>0.7</td>\n",
       "      <td>2.1</td>\n",
       "      <td>8.4</td>\n",
       "      <td>0</td>\n",
       "    </tr>\n",
       "    <tr>\n",
       "      <th>96</th>\n",
       "      <td>6.1</td>\n",
       "      <td>0.5</td>\n",
       "      <td>9.2</td>\n",
       "      <td>4.8</td>\n",
       "      <td>3.3</td>\n",
       "      <td>2.8</td>\n",
       "      <td>7.1</td>\n",
       "      <td>1</td>\n",
       "    </tr>\n",
       "    <tr>\n",
       "      <th>97</th>\n",
       "      <td>2.0</td>\n",
       "      <td>2.8</td>\n",
       "      <td>5.2</td>\n",
       "      <td>5.0</td>\n",
       "      <td>2.4</td>\n",
       "      <td>2.7</td>\n",
       "      <td>8.4</td>\n",
       "      <td>0</td>\n",
       "    </tr>\n",
       "    <tr>\n",
       "      <th>98</th>\n",
       "      <td>3.1</td>\n",
       "      <td>2.2</td>\n",
       "      <td>6.7</td>\n",
       "      <td>6.8</td>\n",
       "      <td>2.6</td>\n",
       "      <td>2.9</td>\n",
       "      <td>8.4</td>\n",
       "      <td>0</td>\n",
       "    </tr>\n",
       "    <tr>\n",
       "      <th>99</th>\n",
       "      <td>2.5</td>\n",
       "      <td>1.8</td>\n",
       "      <td>9.0</td>\n",
       "      <td>5.0</td>\n",
       "      <td>2.2</td>\n",
       "      <td>3.0</td>\n",
       "      <td>6.0</td>\n",
       "      <td>1</td>\n",
       "    </tr>\n",
       "  </tbody>\n",
       "</table>\n",
       "<p>100 rows × 8 columns</p>\n",
       "</div>"
      ],
      "text/plain": [
       "     X1   X2   X3   X4   X5   X6   X7  label2\n",
       "0   4.1  0.6  6.9  4.7  2.4  2.3  5.2       1\n",
       "1   1.8  3.0  6.3  6.6  2.5  4.0  8.4       0\n",
       "2   3.4  5.2  5.7  6.0  4.3  2.7  8.2       0\n",
       "3   2.7  1.0  7.1  5.9  1.8  2.3  7.8       0\n",
       "4   6.0  0.9  9.6  7.8  3.4  4.6  4.5       1\n",
       "..  ...  ...  ...  ...  ...  ...  ...     ...\n",
       "95  0.6  1.6  6.4  5.0  0.7  2.1  8.4       0\n",
       "96  6.1  0.5  9.2  4.8  3.3  2.8  7.1       1\n",
       "97  2.0  2.8  5.2  5.0  2.4  2.7  8.4       0\n",
       "98  3.1  2.2  6.7  6.8  2.6  2.9  8.4       0\n",
       "99  2.5  1.8  9.0  5.0  2.2  3.0  6.0       1\n",
       "\n",
       "[100 rows x 8 columns]"
      ]
     },
     "execution_count": 38,
     "metadata": {},
     "output_type": "execute_result"
    }
   ],
   "source": [
    "km2 = KMeans(n_clusters=2,random_state = 42,  init='k-means++')\n",
    "clusters = km2.fit_predict(predictors_1)\n",
    "clusters\n",
    "\n",
    "np.unique(km2.labels_)\n",
    "\n",
    "centers = km2.cluster_centers_\n",
    "\n",
    "predictors_1[\"label2\"] = clusters\n",
    "predictors_1"
   ]
  },
  {
   "cell_type": "code",
   "execution_count": 39,
   "id": "17dcb109",
   "metadata": {
    "scrolled": false
   },
   "outputs": [
    {
     "data": {
      "image/png": "[encoded data removed]",
      "text/plain": [
       "<Figure size 720x576 with 1 Axes>"
      ]
     },
     "metadata": {
      "needs_background": "light"
     },
     "output_type": "display_data"
    }
   ],
   "source": [
    "plt.figure(figsize=(10, 8))\n",
    "\n",
    "plt.scatter(predictors_1['X1'], \n",
    "            predictors_1['X2'], \n",
    "            c=km2.labels_, s=100)\n",
    "\n",
    "plt.scatter(centers[:,0], centers[:,1], color='blue', marker='s', s=200) \n",
    "\n",
    "plt.xlabel('X1')\n",
    "plt.ylabel('X2')\n",
    "plt.title('2 Cluster K-Means')\n",
    "\n",
    "plt.show()"
   ]
  },
  {
   "cell_type": "code",
   "execution_count": 40,
   "id": "6ec4309e",
   "metadata": {},
   "outputs": [
    {
     "name": "stdout",
     "output_type": "stream",
     "text": [
      "Score =  0.35898308694918357\n"
     ]
    }
   ],
   "source": [
    "from sklearn import metrics\n",
    "score = metrics.silhouette_score(predictors_1, km2.labels_)\n",
    "\n",
    "print(\"Score = \", score)"
   ]
  },
  {
   "cell_type": "markdown",
   "id": "c8719308",
   "metadata": {},
   "source": [
    "## Profiling the Clusters"
   ]
  },
  {
   "cell_type": "code",
   "execution_count": 41,
   "id": "ca63b120",
   "metadata": {},
   "outputs": [
    {
     "data": {
      "text/plain": [
       "<AxesSubplot:xlabel='label2'>"
      ]
     },
     "execution_count": 41,
     "metadata": {},
     "output_type": "execute_result"
    },
    {
     "data": {
      "image/png": "[encoded data removed]",
      "text/plain": [
       "<Figure size 432x288 with 1 Axes>"
      ]
     },
     "metadata": {
      "needs_background": "light"
     },
     "output_type": "display_data"
    }
   ],
   "source": [
    "## Checking Cluster Profile\n",
    "predictors_1.groupby(\"label2\")['X1'].mean().plot.bar()"
   ]
  },
  {
   "cell_type": "code",
   "execution_count": 42,
   "id": "6493efe4",
   "metadata": {},
   "outputs": [
    {
     "data": {
      "text/plain": [
       "<AxesSubplot:xlabel='label2'>"
      ]
     },
     "execution_count": 42,
     "metadata": {},
     "output_type": "execute_result"
    },
    {
     "data": {
      "image/png": "[encoded data removed]",
      "text/plain": [
       "<Figure size 432x288 with 1 Axes>"
      ]
     },
     "metadata": {
      "needs_background": "light"
     },
     "output_type": "display_data"
    }
   ],
   "source": [
    "predictors_1.groupby(\"label2\")['X2'].mean().plot.bar()"
   ]
  },
  {
   "cell_type": "code",
   "execution_count": 43,
   "id": "f22233d9",
   "metadata": {},
   "outputs": [
    {
     "data": {
      "text/plain": [
       "<AxesSubplot:xlabel='label2'>"
      ]
     },
     "execution_count": 43,
     "metadata": {},
     "output_type": "execute_result"
    },
    {
     "data": {
      "image/png": "[encoded data removed]",
      "text/plain": [
       "<Figure size 432x288 with 1 Axes>"
      ]
     },
     "metadata": {
      "needs_background": "light"
     },
     "output_type": "display_data"
    }
   ],
   "source": [
    "predictors_1.groupby(\"label2\")['X3'].mean().plot.bar()"
   ]
  },
  {
   "cell_type": "code",
   "execution_count": 44,
   "id": "05643d68",
   "metadata": {},
   "outputs": [
    {
     "data": {
      "text/plain": [
       "<AxesSubplot:xlabel='label2'>"
      ]
     },
     "execution_count": 44,
     "metadata": {},
     "output_type": "execute_result"
    },
    {
     "data": {
      "image/png": "[encoded data removed]",
      "text/plain": [
       "<Figure size 432x288 with 1 Axes>"
      ]
     },
     "metadata": {
      "needs_background": "light"
     },
     "output_type": "display_data"
    }
   ],
   "source": [
    "predictors_1.groupby(\"label2\")['X4'].mean().plot.bar()"
   ]
  },
  {
   "cell_type": "code",
   "execution_count": 45,
   "id": "32f70a4b",
   "metadata": {},
   "outputs": [
    {
     "data": {
      "text/plain": [
       "<AxesSubplot:xlabel='label2'>"
      ]
     },
     "execution_count": 45,
     "metadata": {},
     "output_type": "execute_result"
    },
    {
     "data": {
      "image/png": "[encoded data removed]",
      "text/plain": [
       "<Figure size 432x288 with 1 Axes>"
      ]
     },
     "metadata": {
      "needs_background": "light"
     },
     "output_type": "display_data"
    }
   ],
   "source": [
    "predictors_1.groupby(\"label2\")['X5'].mean().plot.bar()"
   ]
  },
  {
   "cell_type": "code",
   "execution_count": 46,
   "id": "923ec7b0",
   "metadata": {},
   "outputs": [
    {
     "data": {
      "text/plain": [
       "<AxesSubplot:xlabel='label2'>"
      ]
     },
     "execution_count": 46,
     "metadata": {},
     "output_type": "execute_result"
    },
    {
     "data": {
      "image/png": "[encoded data removed]",
      "text/plain": [
       "<Figure size 432x288 with 1 Axes>"
      ]
     },
     "metadata": {
      "needs_background": "light"
     },
     "output_type": "display_data"
    }
   ],
   "source": [
    "predictors_1.groupby(\"label2\")['X6'].mean().plot.bar()"
   ]
  },
  {
   "cell_type": "code",
   "execution_count": 47,
   "id": "52ee05b0",
   "metadata": {},
   "outputs": [
    {
     "data": {
      "text/plain": [
       "<AxesSubplot:xlabel='label2'>"
      ]
     },
     "execution_count": 47,
     "metadata": {},
     "output_type": "execute_result"
    },
    {
     "data": {
      "image/png": "[encoded data removed]",
      "text/plain": [
       "<Figure size 432x288 with 1 Axes>"
      ]
     },
     "metadata": {
      "needs_background": "light"
     },
     "output_type": "display_data"
    }
   ],
   "source": [
    "predictors_1.groupby(\"label2\")['X7'].mean().plot.bar()"
   ]
  },
  {
   "cell_type": "markdown",
   "id": "3c4139c7",
   "metadata": {},
   "source": [
    "## 4 - Mean Clustering"
   ]
  },
  {
   "cell_type": "code",
   "execution_count": 48,
   "id": "7d64ae10",
   "metadata": {},
   "outputs": [
    {
     "data": {
      "text/html": [
       "<div>\n",
       "<style scoped>\n",
       "    .dataframe tbody tr th:only-of-type {\n",
       "        vertical-align: middle;\n",
       "    }\n",
       "\n",
       "    .dataframe tbody tr th {\n",
       "        vertical-align: top;\n",
       "    }\n",
       "\n",
       "    .dataframe thead th {\n",
       "        text-align: right;\n",
       "    }\n",
       "</style>\n",
       "<table border=\"1\" class=\"dataframe\">\n",
       "  <thead>\n",
       "    <tr style=\"text-align: right;\">\n",
       "      <th></th>\n",
       "      <th>X1</th>\n",
       "      <th>X2</th>\n",
       "      <th>X3</th>\n",
       "      <th>X4</th>\n",
       "      <th>X5</th>\n",
       "      <th>X6</th>\n",
       "      <th>X7</th>\n",
       "      <th>label2</th>\n",
       "      <th>label4</th>\n",
       "    </tr>\n",
       "  </thead>\n",
       "  <tbody>\n",
       "    <tr>\n",
       "      <th>0</th>\n",
       "      <td>4.1</td>\n",
       "      <td>0.6</td>\n",
       "      <td>6.9</td>\n",
       "      <td>4.7</td>\n",
       "      <td>2.4</td>\n",
       "      <td>2.3</td>\n",
       "      <td>5.2</td>\n",
       "      <td>1</td>\n",
       "      <td>0</td>\n",
       "    </tr>\n",
       "    <tr>\n",
       "      <th>1</th>\n",
       "      <td>1.8</td>\n",
       "      <td>3.0</td>\n",
       "      <td>6.3</td>\n",
       "      <td>6.6</td>\n",
       "      <td>2.5</td>\n",
       "      <td>4.0</td>\n",
       "      <td>8.4</td>\n",
       "      <td>0</td>\n",
       "      <td>1</td>\n",
       "    </tr>\n",
       "    <tr>\n",
       "      <th>2</th>\n",
       "      <td>3.4</td>\n",
       "      <td>5.2</td>\n",
       "      <td>5.7</td>\n",
       "      <td>6.0</td>\n",
       "      <td>4.3</td>\n",
       "      <td>2.7</td>\n",
       "      <td>8.2</td>\n",
       "      <td>0</td>\n",
       "      <td>3</td>\n",
       "    </tr>\n",
       "    <tr>\n",
       "      <th>3</th>\n",
       "      <td>2.7</td>\n",
       "      <td>1.0</td>\n",
       "      <td>7.1</td>\n",
       "      <td>5.9</td>\n",
       "      <td>1.8</td>\n",
       "      <td>2.3</td>\n",
       "      <td>7.8</td>\n",
       "      <td>0</td>\n",
       "      <td>1</td>\n",
       "    </tr>\n",
       "    <tr>\n",
       "      <th>4</th>\n",
       "      <td>6.0</td>\n",
       "      <td>0.9</td>\n",
       "      <td>9.6</td>\n",
       "      <td>7.8</td>\n",
       "      <td>3.4</td>\n",
       "      <td>4.6</td>\n",
       "      <td>4.5</td>\n",
       "      <td>1</td>\n",
       "      <td>2</td>\n",
       "    </tr>\n",
       "    <tr>\n",
       "      <th>...</th>\n",
       "      <td>...</td>\n",
       "      <td>...</td>\n",
       "      <td>...</td>\n",
       "      <td>...</td>\n",
       "      <td>...</td>\n",
       "      <td>...</td>\n",
       "      <td>...</td>\n",
       "      <td>...</td>\n",
       "      <td>...</td>\n",
       "    </tr>\n",
       "    <tr>\n",
       "      <th>95</th>\n",
       "      <td>0.6</td>\n",
       "      <td>1.6</td>\n",
       "      <td>6.4</td>\n",
       "      <td>5.0</td>\n",
       "      <td>0.7</td>\n",
       "      <td>2.1</td>\n",
       "      <td>8.4</td>\n",
       "      <td>0</td>\n",
       "      <td>1</td>\n",
       "    </tr>\n",
       "    <tr>\n",
       "      <th>96</th>\n",
       "      <td>6.1</td>\n",
       "      <td>0.5</td>\n",
       "      <td>9.2</td>\n",
       "      <td>4.8</td>\n",
       "      <td>3.3</td>\n",
       "      <td>2.8</td>\n",
       "      <td>7.1</td>\n",
       "      <td>1</td>\n",
       "      <td>2</td>\n",
       "    </tr>\n",
       "    <tr>\n",
       "      <th>97</th>\n",
       "      <td>2.0</td>\n",
       "      <td>2.8</td>\n",
       "      <td>5.2</td>\n",
       "      <td>5.0</td>\n",
       "      <td>2.4</td>\n",
       "      <td>2.7</td>\n",
       "      <td>8.4</td>\n",
       "      <td>0</td>\n",
       "      <td>1</td>\n",
       "    </tr>\n",
       "    <tr>\n",
       "      <th>98</th>\n",
       "      <td>3.1</td>\n",
       "      <td>2.2</td>\n",
       "      <td>6.7</td>\n",
       "      <td>6.8</td>\n",
       "      <td>2.6</td>\n",
       "      <td>2.9</td>\n",
       "      <td>8.4</td>\n",
       "      <td>0</td>\n",
       "      <td>1</td>\n",
       "    </tr>\n",
       "    <tr>\n",
       "      <th>99</th>\n",
       "      <td>2.5</td>\n",
       "      <td>1.8</td>\n",
       "      <td>9.0</td>\n",
       "      <td>5.0</td>\n",
       "      <td>2.2</td>\n",
       "      <td>3.0</td>\n",
       "      <td>6.0</td>\n",
       "      <td>1</td>\n",
       "      <td>0</td>\n",
       "    </tr>\n",
       "  </tbody>\n",
       "</table>\n",
       "<p>100 rows × 9 columns</p>\n",
       "</div>"
      ],
      "text/plain": [
       "     X1   X2   X3   X4   X5   X6   X7  label2  label4\n",
       "0   4.1  0.6  6.9  4.7  2.4  2.3  5.2       1       0\n",
       "1   1.8  3.0  6.3  6.6  2.5  4.0  8.4       0       1\n",
       "2   3.4  5.2  5.7  6.0  4.3  2.7  8.2       0       3\n",
       "3   2.7  1.0  7.1  5.9  1.8  2.3  7.8       0       1\n",
       "4   6.0  0.9  9.6  7.8  3.4  4.6  4.5       1       2\n",
       "..  ...  ...  ...  ...  ...  ...  ...     ...     ...\n",
       "95  0.6  1.6  6.4  5.0  0.7  2.1  8.4       0       1\n",
       "96  6.1  0.5  9.2  4.8  3.3  2.8  7.1       1       2\n",
       "97  2.0  2.8  5.2  5.0  2.4  2.7  8.4       0       1\n",
       "98  3.1  2.2  6.7  6.8  2.6  2.9  8.4       0       1\n",
       "99  2.5  1.8  9.0  5.0  2.2  3.0  6.0       1       0\n",
       "\n",
       "[100 rows x 9 columns]"
      ]
     },
     "execution_count": 48,
     "metadata": {},
     "output_type": "execute_result"
    }
   ],
   "source": [
    "km4 = KMeans(n_clusters=4,random_state = 42,  init='k-means++')\n",
    "clusters4 = km4.fit_predict(predictors_1)\n",
    "clusters4\n",
    "\n",
    "np.unique(km4.labels_)\n",
    "\n",
    "centers4 = km4.cluster_centers_\n",
    "\n",
    "predictors_1[\"label4\"] = clusters4\n",
    "predictors_1"
   ]
  },
  {
   "cell_type": "code",
   "execution_count": 49,
   "id": "0a96fd24",
   "metadata": {},
   "outputs": [
    {
     "data": {
      "image/png": "[encoded data removed]",
      "text/plain": [
       "<Figure size 720x576 with 1 Axes>"
      ]
     },
     "metadata": {
      "needs_background": "light"
     },
     "output_type": "display_data"
    }
   ],
   "source": [
    "plt.figure(figsize=(10, 8))\n",
    "\n",
    "plt.scatter(predictors_1['X1'], \n",
    "            predictors_1['X2'], \n",
    "            c=km4.labels_, s=100)\n",
    "\n",
    "plt.scatter(centers4[:,0], centers4[:,1], color='blue', marker='s', s=200) \n",
    "\n",
    "plt.xlabel('X1')\n",
    "plt.ylabel('X2')\n",
    "plt.title(' 4 Cluster K-Means')\n",
    "\n",
    "plt.show()"
   ]
  },
  {
   "cell_type": "code",
   "execution_count": 50,
   "id": "1204498e",
   "metadata": {},
   "outputs": [
    {
     "name": "stdout",
     "output_type": "stream",
     "text": [
      "Score =  0.33816401462912843\n"
     ]
    }
   ],
   "source": [
    "from sklearn import metrics\n",
    "score = metrics.silhouette_score(predictors_1, km4.labels_)\n",
    "\n",
    "print(\"Score = \", score)"
   ]
  },
  {
   "cell_type": "markdown",
   "id": "ddc49367",
   "metadata": {},
   "source": [
    "# Profiling the Clusters`"
   ]
  },
  {
   "cell_type": "code",
   "execution_count": 51,
   "id": "6649635e",
   "metadata": {},
   "outputs": [
    {
     "data": {
      "text/plain": [
       "<AxesSubplot:xlabel='label4'>"
      ]
     },
     "execution_count": 51,
     "metadata": {},
     "output_type": "execute_result"
    },
    {
     "data": {
      "image/png": "[encoded data removed]",
      "text/plain": [
       "<Figure size 432x288 with 1 Axes>"
      ]
     },
     "metadata": {
      "needs_background": "light"
     },
     "output_type": "display_data"
    }
   ],
   "source": [
    "## Checking Cluster Profile\n",
    "predictors_1.groupby(\"label4\")['X1'].mean().plot.bar()"
   ]
  },
  {
   "cell_type": "code",
   "execution_count": 52,
   "id": "f9680a2f",
   "metadata": {},
   "outputs": [
    {
     "data": {
      "text/plain": [
       "<AxesSubplot:xlabel='label4'>"
      ]
     },
     "execution_count": 52,
     "metadata": {},
     "output_type": "execute_result"
    },
    {
     "data": {
      "image/png": "[encoded data removed]",
      "text/plain": [
       "<Figure size 432x288 with 1 Axes>"
      ]
     },
     "metadata": {
      "needs_background": "light"
     },
     "output_type": "display_data"
    }
   ],
   "source": [
    "predictors_1.groupby(\"label4\")['X2'].mean().plot.bar()"
   ]
  },
  {
   "cell_type": "code",
   "execution_count": 53,
   "id": "aed8fd54",
   "metadata": {},
   "outputs": [
    {
     "data": {
      "text/plain": [
       "<AxesSubplot:xlabel='label4'>"
      ]
     },
     "execution_count": 53,
     "metadata": {},
     "output_type": "execute_result"
    },
    {
     "data": {
      "image/png": "[encoded data removed]",
      "text/plain": [
       "<Figure size 432x288 with 1 Axes>"
      ]
     },
     "metadata": {
      "needs_background": "light"
     },
     "output_type": "display_data"
    }
   ],
   "source": [
    "predictors_1.groupby(\"label4\")['X3'].mean().plot.bar()"
   ]
  },
  {
   "cell_type": "code",
   "execution_count": 54,
   "id": "cbf7c6d2",
   "metadata": {},
   "outputs": [
    {
     "data": {
      "text/plain": [
       "<AxesSubplot:xlabel='label4'>"
      ]
     },
     "execution_count": 54,
     "metadata": {},
     "output_type": "execute_result"
    },
    {
     "data": {
      "image/png": "[encoded data removed]",
      "text/plain": [
       "<Figure size 432x288 with 1 Axes>"
      ]
     },
     "metadata": {
      "needs_background": "light"
     },
     "output_type": "display_data"
    }
   ],
   "source": [
    "predictors_1.groupby(\"label4\")['X4'].mean().plot.bar()"
   ]
  },
  {
   "cell_type": "code",
   "execution_count": 55,
   "id": "fd3e3ea7",
   "metadata": {},
   "outputs": [
    {
     "data": {
      "text/plain": [
       "<AxesSubplot:xlabel='label4'>"
      ]
     },
     "execution_count": 55,
     "metadata": {},
     "output_type": "execute_result"
    },
    {
     "data": {
      "image/png": "[encoded data removed]",
      "text/plain": [
       "<Figure size 432x288 with 1 Axes>"
      ]
     },
     "metadata": {
      "needs_background": "light"
     },
     "output_type": "display_data"
    }
   ],
   "source": [
    "predictors_1.groupby(\"label4\")['X5'].mean().plot.bar()"
   ]
  },
  {
   "cell_type": "code",
   "execution_count": 56,
   "id": "313fb0a5",
   "metadata": {},
   "outputs": [
    {
     "data": {
      "text/plain": [
       "<AxesSubplot:xlabel='label4'>"
      ]
     },
     "execution_count": 56,
     "metadata": {},
     "output_type": "execute_result"
    },
    {
     "data": {
      "image/png": "[encoded data removed]",
      "text/plain": [
       "<Figure size 432x288 with 1 Axes>"
      ]
     },
     "metadata": {
      "needs_background": "light"
     },
     "output_type": "display_data"
    }
   ],
   "source": [
    "predictors_1.groupby(\"label4\")['X6'].mean().plot.bar()"
   ]
  },
  {
   "cell_type": "code",
   "execution_count": 57,
   "id": "37d0d75c",
   "metadata": {},
   "outputs": [
    {
     "data": {
      "text/plain": [
       "<AxesSubplot:xlabel='label4'>"
      ]
     },
     "execution_count": 57,
     "metadata": {},
     "output_type": "execute_result"
    },
    {
     "data": {
      "image/png": "[encoded data removed]",
      "text/plain": [
       "<Figure size 432x288 with 1 Axes>"
      ]
     },
     "metadata": {
      "needs_background": "light"
     },
     "output_type": "display_data"
    }
   ],
   "source": [
    "predictors_1.groupby(\"label4\")['X7'].mean().plot.bar()"
   ]
  },
  {
   "cell_type": "markdown",
   "id": "c8aa30eb",
   "metadata": {},
   "source": [
    "# Linear Regression Model 1"
   ]
  },
  {
   "cell_type": "code",
   "execution_count": 58,
   "id": "24e70c36",
   "metadata": {},
   "outputs": [
    {
     "name": "stdout",
     "output_type": "stream",
     "text": [
      "<class 'pandas.core.frame.DataFrame'>\n",
      "RangeIndex: 100 entries, 0 to 99\n",
      "Data columns (total 8 columns):\n",
      " #   Column  Non-Null Count  Dtype  \n",
      "---  ------  --------------  -----  \n",
      " 0   X1      100 non-null    float64\n",
      " 1   X2      100 non-null    float64\n",
      " 2   X3      100 non-null    float64\n",
      " 3   X4      100 non-null    float64\n",
      " 4   X5      100 non-null    float64\n",
      " 5   X6      100 non-null    float64\n",
      " 6   X7      100 non-null    float64\n",
      " 7   X9      100 non-null    int64  \n",
      "dtypes: float64(7), int64(1)\n",
      "memory usage: 6.4 KB\n"
     ]
    }
   ],
   "source": [
    "data_1.info()"
   ]
  },
  {
   "cell_type": "code",
   "execution_count": 59,
   "id": "44082451",
   "metadata": {},
   "outputs": [
    {
     "name": "stdout",
     "output_type": "stream",
     "text": [
      "<class 'pandas.core.frame.DataFrame'>\n",
      "RangeIndex: 100 entries, 0 to 99\n",
      "Data columns (total 8 columns):\n",
      " #   Column  Non-Null Count  Dtype  \n",
      "---  ------  --------------  -----  \n",
      " 0   const   100 non-null    float64\n",
      " 1   X1      100 non-null    float64\n",
      " 2   X2      100 non-null    float64\n",
      " 3   X3      100 non-null    float64\n",
      " 4   X4      100 non-null    float64\n",
      " 5   X5      100 non-null    float64\n",
      " 6   X6      100 non-null    float64\n",
      " 7   X7      100 non-null    float64\n",
      "dtypes: float64(8)\n",
      "memory usage: 6.4 KB\n"
     ]
    },
    {
     "data": {
      "text/html": [
       "<table class=\"simpletable\">\n",
       "<caption>OLS Regression Results</caption>\n",
       "<tr>\n",
       "  <th>Dep. Variable:</th>           <td>X9</td>        <th>  R-squared:         </th> <td>   0.775</td>\n",
       "</tr>\n",
       "<tr>\n",
       "  <th>Model:</th>                   <td>OLS</td>       <th>  Adj. R-squared:    </th> <td>   0.758</td>\n",
       "</tr>\n",
       "<tr>\n",
       "  <th>Method:</th>             <td>Least Squares</td>  <th>  F-statistic:       </th> <td>   45.25</td>\n",
       "</tr>\n",
       "<tr>\n",
       "  <th>Date:</th>             <td>Sun, 27 Nov 2022</td> <th>  Prob (F-statistic):</th> <td>4.09e-27</td>\n",
       "</tr>\n",
       "<tr>\n",
       "  <th>Time:</th>                 <td>03:18:02</td>     <th>  Log-Likelihood:    </th> <td> -286.42</td>\n",
       "</tr>\n",
       "<tr>\n",
       "  <th>No. Observations:</th>      <td>   100</td>      <th>  AIC:               </th> <td>   588.8</td>\n",
       "</tr>\n",
       "<tr>\n",
       "  <th>Df Residuals:</th>          <td>    92</td>      <th>  BIC:               </th> <td>   609.7</td>\n",
       "</tr>\n",
       "<tr>\n",
       "  <th>Df Model:</th>              <td>     7</td>      <th>                     </th>     <td> </td>   \n",
       "</tr>\n",
       "<tr>\n",
       "  <th>Covariance Type:</th>      <td>nonrobust</td>    <th>                     </th>     <td> </td>   \n",
       "</tr>\n",
       "</table>\n",
       "<table class=\"simpletable\">\n",
       "<tr>\n",
       "    <td></td>       <th>coef</th>     <th>std err</th>      <th>t</th>      <th>P>|t|</th>  <th>[0.025</th>    <th>0.975]</th>  \n",
       "</tr>\n",
       "<tr>\n",
       "  <th>const</th> <td>  -10.1869</td> <td>    4.977</td> <td>   -2.047</td> <td> 0.044</td> <td>  -20.071</td> <td>   -0.303</td>\n",
       "</tr>\n",
       "<tr>\n",
       "  <th>X1</th>    <td>   -0.0576</td> <td>    2.013</td> <td>   -0.029</td> <td> 0.977</td> <td>   -4.055</td> <td>    3.940</td>\n",
       "</tr>\n",
       "<tr>\n",
       "  <th>X2</th>    <td>   -0.6969</td> <td>    2.090</td> <td>   -0.333</td> <td> 0.740</td> <td>   -4.848</td> <td>    3.454</td>\n",
       "</tr>\n",
       "<tr>\n",
       "  <th>X3</th>    <td>    3.3682</td> <td>    0.411</td> <td>    8.191</td> <td> 0.000</td> <td>    2.551</td> <td>    4.185</td>\n",
       "</tr>\n",
       "<tr>\n",
       "  <th>X4</th>    <td>   -0.0422</td> <td>    0.667</td> <td>   -0.063</td> <td> 0.950</td> <td>   -1.367</td> <td>    1.282</td>\n",
       "</tr>\n",
       "<tr>\n",
       "  <th>X5</th>    <td>    8.3691</td> <td>    3.918</td> <td>    2.136</td> <td> 0.035</td> <td>    0.587</td> <td>   16.151</td>\n",
       "</tr>\n",
       "<tr>\n",
       "  <th>X6</th>    <td>    1.2807</td> <td>    0.947</td> <td>    1.352</td> <td> 0.180</td> <td>   -0.600</td> <td>    3.162</td>\n",
       "</tr>\n",
       "<tr>\n",
       "  <th>X7</th>    <td>    0.5669</td> <td>    0.355</td> <td>    1.595</td> <td> 0.114</td> <td>   -0.139</td> <td>    1.273</td>\n",
       "</tr>\n",
       "</table>\n",
       "<table class=\"simpletable\">\n",
       "<tr>\n",
       "  <th>Omnibus:</th>       <td> 8.992</td> <th>  Durbin-Watson:     </th> <td>   1.897</td>\n",
       "</tr>\n",
       "<tr>\n",
       "  <th>Prob(Omnibus):</th> <td> 0.011</td> <th>  Jarque-Bera (JB):  </th> <td>   8.886</td>\n",
       "</tr>\n",
       "<tr>\n",
       "  <th>Skew:</th>          <td>-0.711</td> <th>  Prob(JB):          </th> <td>  0.0118</td>\n",
       "</tr>\n",
       "<tr>\n",
       "  <th>Kurtosis:</th>      <td> 3.334</td> <th>  Cond. No.          </th> <td>    160.</td>\n",
       "</tr>\n",
       "</table><br/><br/>Notes:<br/>[1] Standard Errors assume that the covariance matrix of the errors is correctly specified."
      ],
      "text/plain": [
       "<class 'statsmodels.iolib.summary.Summary'>\n",
       "\"\"\"\n",
       "                            OLS Regression Results                            \n",
       "==============================================================================\n",
       "Dep. Variable:                     X9   R-squared:                       0.775\n",
       "Model:                            OLS   Adj. R-squared:                  0.758\n",
       "Method:                 Least Squares   F-statistic:                     45.25\n",
       "Date:                Sun, 27 Nov 2022   Prob (F-statistic):           4.09e-27\n",
       "Time:                        03:18:02   Log-Likelihood:                -286.42\n",
       "No. Observations:                 100   AIC:                             588.8\n",
       "Df Residuals:                      92   BIC:                             609.7\n",
       "Df Model:                           7                                         \n",
       "Covariance Type:            nonrobust                                         \n",
       "==============================================================================\n",
       "                 coef    std err          t      P>|t|      [0.025      0.975]\n",
       "------------------------------------------------------------------------------\n",
       "const        -10.1869      4.977     -2.047      0.044     -20.071      -0.303\n",
       "X1            -0.0576      2.013     -0.029      0.977      -4.055       3.940\n",
       "X2            -0.6969      2.090     -0.333      0.740      -4.848       3.454\n",
       "X3             3.3682      0.411      8.191      0.000       2.551       4.185\n",
       "X4            -0.0422      0.667     -0.063      0.950      -1.367       1.282\n",
       "X5             8.3691      3.918      2.136      0.035       0.587      16.151\n",
       "X6             1.2807      0.947      1.352      0.180      -0.600       3.162\n",
       "X7             0.5669      0.355      1.595      0.114      -0.139       1.273\n",
       "==============================================================================\n",
       "Omnibus:                        8.992   Durbin-Watson:                   1.897\n",
       "Prob(Omnibus):                  0.011   Jarque-Bera (JB):                8.886\n",
       "Skew:                          -0.711   Prob(JB):                       0.0118\n",
       "Kurtosis:                       3.334   Cond. No.                         160.\n",
       "==============================================================================\n",
       "\n",
       "Notes:\n",
       "[1] Standard Errors assume that the covariance matrix of the errors is correctly specified.\n",
       "\"\"\""
      ]
     },
     "execution_count": 59,
     "metadata": {},
     "output_type": "execute_result"
    }
   ],
   "source": [
    "x= data_1.iloc[:,[0,1,2,3,4,5,6]]\n",
    "y= data_1.iloc[:,[7]]\n",
    "import statsmodels.api as sm\n",
    "X = sm.add_constant(x) \n",
    "X.info()\n",
    "model = sm.OLS(y, X).fit()\n",
    "model.summary()"
   ]
  },
  {
   "cell_type": "code",
   "execution_count": 60,
   "id": "a04e9d25",
   "metadata": {},
   "outputs": [
    {
     "name": "stdout",
     "output_type": "stream",
     "text": [
      "<class 'pandas.core.frame.DataFrame'>\n",
      "RangeIndex: 100 entries, 0 to 99\n",
      "Data columns (total 7 columns):\n",
      " #   Column  Non-Null Count  Dtype  \n",
      "---  ------  --------------  -----  \n",
      " 0   const   100 non-null    float64\n",
      " 1   X1      100 non-null    float64\n",
      " 2   X2      100 non-null    float64\n",
      " 3   X3      100 non-null    float64\n",
      " 4   X4      100 non-null    float64\n",
      " 5   X6      100 non-null    float64\n",
      " 6   X7      100 non-null    float64\n",
      "dtypes: float64(7)\n",
      "memory usage: 5.6 KB\n"
     ]
    },
    {
     "data": {
      "text/html": [
       "<table class=\"simpletable\">\n",
       "<caption>OLS Regression Results</caption>\n",
       "<tr>\n",
       "  <th>Dep. Variable:</th>           <td>X9</td>        <th>  R-squared:         </th> <td>   0.764</td>\n",
       "</tr>\n",
       "<tr>\n",
       "  <th>Model:</th>                   <td>OLS</td>       <th>  Adj. R-squared:    </th> <td>   0.749</td>\n",
       "</tr>\n",
       "<tr>\n",
       "  <th>Method:</th>             <td>Least Squares</td>  <th>  F-statistic:       </th> <td>   50.11</td>\n",
       "</tr>\n",
       "<tr>\n",
       "  <th>Date:</th>             <td>Sun, 27 Nov 2022</td> <th>  Prob (F-statistic):</th> <td>4.93e-27</td>\n",
       "</tr>\n",
       "<tr>\n",
       "  <th>Time:</th>                 <td>03:18:02</td>     <th>  Log-Likelihood:    </th> <td> -288.84</td>\n",
       "</tr>\n",
       "<tr>\n",
       "  <th>No. Observations:</th>      <td>   100</td>      <th>  AIC:               </th> <td>   591.7</td>\n",
       "</tr>\n",
       "<tr>\n",
       "  <th>Df Residuals:</th>          <td>    93</td>      <th>  BIC:               </th> <td>   609.9</td>\n",
       "</tr>\n",
       "<tr>\n",
       "  <th>Df Model:</th>              <td>     6</td>      <th>                     </th>     <td> </td>   \n",
       "</tr>\n",
       "<tr>\n",
       "  <th>Covariance Type:</th>      <td>nonrobust</td>    <th>                     </th>     <td> </td>   \n",
       "</tr>\n",
       "</table>\n",
       "<table class=\"simpletable\">\n",
       "<tr>\n",
       "    <td></td>       <th>coef</th>     <th>std err</th>      <th>t</th>      <th>P>|t|</th>  <th>[0.025</th>    <th>0.975]</th>  \n",
       "</tr>\n",
       "<tr>\n",
       "  <th>const</th> <td>  -12.0299</td> <td>    4.994</td> <td>   -2.409</td> <td> 0.018</td> <td>  -21.948</td> <td>   -2.112</td>\n",
       "</tr>\n",
       "<tr>\n",
       "  <th>X1</th>    <td>    4.1448</td> <td>    0.432</td> <td>    9.584</td> <td> 0.000</td> <td>    3.286</td> <td>    5.004</td>\n",
       "</tr>\n",
       "<tr>\n",
       "  <th>X2</th>    <td>    3.6576</td> <td>    0.470</td> <td>    7.780</td> <td> 0.000</td> <td>    2.724</td> <td>    4.591</td>\n",
       "</tr>\n",
       "<tr>\n",
       "  <th>X3</th>    <td>    3.4484</td> <td>    0.417</td> <td>    8.264</td> <td> 0.000</td> <td>    2.620</td> <td>    4.277</td>\n",
       "</tr>\n",
       "<tr>\n",
       "  <th>X4</th>    <td>    0.2040</td> <td>    0.669</td> <td>    0.305</td> <td> 0.761</td> <td>   -1.125</td> <td>    1.533</td>\n",
       "</tr>\n",
       "<tr>\n",
       "  <th>X6</th>    <td>    1.1760</td> <td>    0.964</td> <td>    1.220</td> <td> 0.225</td> <td>   -0.738</td> <td>    3.090</td>\n",
       "</tr>\n",
       "<tr>\n",
       "  <th>X7</th>    <td>    0.5004</td> <td>    0.361</td> <td>    1.387</td> <td> 0.169</td> <td>   -0.216</td> <td>    1.217</td>\n",
       "</tr>\n",
       "</table>\n",
       "<table class=\"simpletable\">\n",
       "<tr>\n",
       "  <th>Omnibus:</th>       <td> 3.647</td> <th>  Durbin-Watson:     </th> <td>   1.886</td>\n",
       "</tr>\n",
       "<tr>\n",
       "  <th>Prob(Omnibus):</th> <td> 0.161</td> <th>  Jarque-Bera (JB):  </th> <td>   3.437</td>\n",
       "</tr>\n",
       "<tr>\n",
       "  <th>Skew:</th>          <td>-0.454</td> <th>  Prob(JB):          </th> <td>   0.179</td>\n",
       "</tr>\n",
       "<tr>\n",
       "  <th>Kurtosis:</th>      <td> 2.956</td> <th>  Cond. No.          </th> <td>    143.</td>\n",
       "</tr>\n",
       "</table><br/><br/>Notes:<br/>[1] Standard Errors assume that the covariance matrix of the errors is correctly specified."
      ],
      "text/plain": [
       "<class 'statsmodels.iolib.summary.Summary'>\n",
       "\"\"\"\n",
       "                            OLS Regression Results                            \n",
       "==============================================================================\n",
       "Dep. Variable:                     X9   R-squared:                       0.764\n",
       "Model:                            OLS   Adj. R-squared:                  0.749\n",
       "Method:                 Least Squares   F-statistic:                     50.11\n",
       "Date:                Sun, 27 Nov 2022   Prob (F-statistic):           4.93e-27\n",
       "Time:                        03:18:02   Log-Likelihood:                -288.84\n",
       "No. Observations:                 100   AIC:                             591.7\n",
       "Df Residuals:                      93   BIC:                             609.9\n",
       "Df Model:                           6                                         \n",
       "Covariance Type:            nonrobust                                         \n",
       "==============================================================================\n",
       "                 coef    std err          t      P>|t|      [0.025      0.975]\n",
       "------------------------------------------------------------------------------\n",
       "const        -12.0299      4.994     -2.409      0.018     -21.948      -2.112\n",
       "X1             4.1448      0.432      9.584      0.000       3.286       5.004\n",
       "X2             3.6576      0.470      7.780      0.000       2.724       4.591\n",
       "X3             3.4484      0.417      8.264      0.000       2.620       4.277\n",
       "X4             0.2040      0.669      0.305      0.761      -1.125       1.533\n",
       "X6             1.1760      0.964      1.220      0.225      -0.738       3.090\n",
       "X7             0.5004      0.361      1.387      0.169      -0.216       1.217\n",
       "==============================================================================\n",
       "Omnibus:                        3.647   Durbin-Watson:                   1.886\n",
       "Prob(Omnibus):                  0.161   Jarque-Bera (JB):                3.437\n",
       "Skew:                          -0.454   Prob(JB):                        0.179\n",
       "Kurtosis:                       2.956   Cond. No.                         143.\n",
       "==============================================================================\n",
       "\n",
       "Notes:\n",
       "[1] Standard Errors assume that the covariance matrix of the errors is correctly specified.\n",
       "\"\"\""
      ]
     },
     "execution_count": 60,
     "metadata": {},
     "output_type": "execute_result"
    }
   ],
   "source": [
    "## Dropping X5 due to HIGH VIF\n",
    "\n",
    "x.drop(['X5'],axis =1,inplace=True)\n",
    "import statsmodels.api as sm\n",
    "X = sm.add_constant(x) \n",
    "X.info()\n",
    "model_X5 = sm.OLS(y, X).fit()\n",
    "model_X5.summary()"
   ]
  },
  {
   "cell_type": "markdown",
   "id": "ac6e7497",
   "metadata": {},
   "source": [
    "\n",
    "\n"
   ]
  },
  {
   "cell_type": "markdown",
   "id": "3c01c521",
   "metadata": {},
   "source": [
    "# Linear Regression Model 2\n",
    "### Adding X8 to independent variables to check change in R2 value"
   ]
  },
  {
   "cell_type": "code",
   "execution_count": 61,
   "id": "2614b7d2",
   "metadata": {},
   "outputs": [],
   "source": [
    "data_2 = df.loc[ :,['X1','X2','X3','X4','X5','X6','X7','X8','X9'] ]\n",
    "\n",
    "predictors_2 = df.loc[:,['X1','X2','X3','X4','X5','X6','X7','X8']] # Preception of HACTO (HACTO attributes by each respondents)\n",
    "response_2 = df.loc[:,['X9']] # Satisfaction Level"
   ]
  },
  {
   "cell_type": "code",
   "execution_count": 62,
   "id": "80c553bf",
   "metadata": {},
   "outputs": [],
   "source": [
    "data_2['X8'] = data_2['X8'].astype('int')"
   ]
  },
  {
   "cell_type": "code",
   "execution_count": 63,
   "id": "88376709",
   "metadata": {},
   "outputs": [
    {
     "name": "stdout",
     "output_type": "stream",
     "text": [
      "<class 'pandas.core.frame.DataFrame'>\n",
      "RangeIndex: 100 entries, 0 to 99\n",
      "Data columns (total 9 columns):\n",
      " #   Column  Non-Null Count  Dtype  \n",
      "---  ------  --------------  -----  \n",
      " 0   X1      100 non-null    float64\n",
      " 1   X2      100 non-null    float64\n",
      " 2   X3      100 non-null    float64\n",
      " 3   X4      100 non-null    float64\n",
      " 4   X5      100 non-null    float64\n",
      " 5   X6      100 non-null    float64\n",
      " 6   X7      100 non-null    float64\n",
      " 7   X8      100 non-null    int32  \n",
      " 8   X9      100 non-null    int64  \n",
      "dtypes: float64(7), int32(1), int64(1)\n",
      "memory usage: 6.8 KB\n"
     ]
    }
   ],
   "source": [
    "data_2.info()"
   ]
  },
  {
   "cell_type": "code",
   "execution_count": 64,
   "id": "b51266ae",
   "metadata": {},
   "outputs": [
    {
     "name": "stdout",
     "output_type": "stream",
     "text": [
      "<class 'pandas.core.frame.DataFrame'>\n",
      "RangeIndex: 100 entries, 0 to 99\n",
      "Data columns (total 9 columns):\n",
      " #   Column  Non-Null Count  Dtype  \n",
      "---  ------  --------------  -----  \n",
      " 0   const   100 non-null    float64\n",
      " 1   X1      100 non-null    float64\n",
      " 2   X2      100 non-null    float64\n",
      " 3   X3      100 non-null    float64\n",
      " 4   X4      100 non-null    float64\n",
      " 5   X5      100 non-null    float64\n",
      " 6   X6      100 non-null    float64\n",
      " 7   X7      100 non-null    float64\n",
      " 8   X8      100 non-null    int32  \n",
      "dtypes: float64(8), int32(1)\n",
      "memory usage: 6.8 KB\n"
     ]
    },
    {
     "data": {
      "text/html": [
       "<table class=\"simpletable\">\n",
       "<caption>OLS Regression Results</caption>\n",
       "<tr>\n",
       "  <th>Dep. Variable:</th>           <td>X9</td>        <th>  R-squared:         </th> <td>   0.802</td>\n",
       "</tr>\n",
       "<tr>\n",
       "  <th>Model:</th>                   <td>OLS</td>       <th>  Adj. R-squared:    </th> <td>   0.785</td>\n",
       "</tr>\n",
       "<tr>\n",
       "  <th>Method:</th>             <td>Least Squares</td>  <th>  F-statistic:       </th> <td>   46.18</td>\n",
       "</tr>\n",
       "<tr>\n",
       "  <th>Date:</th>             <td>Sun, 27 Nov 2022</td> <th>  Prob (F-statistic):</th> <td>8.58e-29</td>\n",
       "</tr>\n",
       "<tr>\n",
       "  <th>Time:</th>                 <td>03:18:02</td>     <th>  Log-Likelihood:    </th> <td> -279.92</td>\n",
       "</tr>\n",
       "<tr>\n",
       "  <th>No. Observations:</th>      <td>   100</td>      <th>  AIC:               </th> <td>   577.8</td>\n",
       "</tr>\n",
       "<tr>\n",
       "  <th>Df Residuals:</th>          <td>    91</td>      <th>  BIC:               </th> <td>   601.3</td>\n",
       "</tr>\n",
       "<tr>\n",
       "  <th>Df Model:</th>              <td>     8</td>      <th>                     </th>     <td> </td>   \n",
       "</tr>\n",
       "<tr>\n",
       "  <th>Covariance Type:</th>      <td>nonrobust</td>    <th>                     </th>     <td> </td>   \n",
       "</tr>\n",
       "</table>\n",
       "<table class=\"simpletable\">\n",
       "<tr>\n",
       "    <td></td>       <th>coef</th>     <th>std err</th>      <th>t</th>      <th>P>|t|</th>  <th>[0.025</th>    <th>0.975]</th>  \n",
       "</tr>\n",
       "<tr>\n",
       "  <th>const</th> <td>  -14.8045</td> <td>    4.866</td> <td>   -3.043</td> <td> 0.003</td> <td>  -24.470</td> <td>   -5.139</td>\n",
       "</tr>\n",
       "<tr>\n",
       "  <th>X1</th>    <td>    0.6887</td> <td>    1.908</td> <td>    0.361</td> <td> 0.719</td> <td>   -3.101</td> <td>    4.479</td>\n",
       "</tr>\n",
       "<tr>\n",
       "  <th>X2</th>    <td>   -0.4048</td> <td>    1.971</td> <td>   -0.205</td> <td> 0.838</td> <td>   -4.320</td> <td>    3.511</td>\n",
       "</tr>\n",
       "<tr>\n",
       "  <th>X3</th>    <td>    3.9898</td> <td>    0.425</td> <td>    9.385</td> <td> 0.000</td> <td>    3.145</td> <td>    4.834</td>\n",
       "</tr>\n",
       "<tr>\n",
       "  <th>X4</th>    <td>   -0.1117</td> <td>    0.629</td> <td>   -0.178</td> <td> 0.859</td> <td>   -1.360</td> <td>    1.137</td>\n",
       "</tr>\n",
       "<tr>\n",
       "  <th>X5</th>    <td>    7.8425</td> <td>    3.695</td> <td>    2.123</td> <td> 0.036</td> <td>    0.503</td> <td>   15.181</td>\n",
       "</tr>\n",
       "<tr>\n",
       "  <th>X6</th>    <td>    1.7484</td> <td>    0.902</td> <td>    1.938</td> <td> 0.056</td> <td>   -0.043</td> <td>    3.540</td>\n",
       "</tr>\n",
       "<tr>\n",
       "  <th>X7</th>    <td>   -0.1591</td> <td>    0.392</td> <td>   -0.406</td> <td> 0.686</td> <td>   -0.938</td> <td>    0.620</td>\n",
       "</tr>\n",
       "<tr>\n",
       "  <th>X8</th>    <td>    5.2811</td> <td>    1.486</td> <td>    3.554</td> <td> 0.001</td> <td>    2.330</td> <td>    8.232</td>\n",
       "</tr>\n",
       "</table>\n",
       "<table class=\"simpletable\">\n",
       "<tr>\n",
       "  <th>Omnibus:</th>       <td> 6.385</td> <th>  Durbin-Watson:     </th> <td>   1.652</td>\n",
       "</tr>\n",
       "<tr>\n",
       "  <th>Prob(Omnibus):</th> <td> 0.041</td> <th>  Jarque-Bera (JB):  </th> <td>   5.917</td>\n",
       "</tr>\n",
       "<tr>\n",
       "  <th>Skew:</th>          <td>-0.580</td> <th>  Prob(JB):          </th> <td>  0.0519</td>\n",
       "</tr>\n",
       "<tr>\n",
       "  <th>Kurtosis:</th>      <td> 3.275</td> <th>  Cond. No.          </th> <td>    165.</td>\n",
       "</tr>\n",
       "</table><br/><br/>Notes:<br/>[1] Standard Errors assume that the covariance matrix of the errors is correctly specified."
      ],
      "text/plain": [
       "<class 'statsmodels.iolib.summary.Summary'>\n",
       "\"\"\"\n",
       "                            OLS Regression Results                            \n",
       "==============================================================================\n",
       "Dep. Variable:                     X9   R-squared:                       0.802\n",
       "Model:                            OLS   Adj. R-squared:                  0.785\n",
       "Method:                 Least Squares   F-statistic:                     46.18\n",
       "Date:                Sun, 27 Nov 2022   Prob (F-statistic):           8.58e-29\n",
       "Time:                        03:18:02   Log-Likelihood:                -279.92\n",
       "No. Observations:                 100   AIC:                             577.8\n",
       "Df Residuals:                      91   BIC:                             601.3\n",
       "Df Model:                           8                                         \n",
       "Covariance Type:            nonrobust                                         \n",
       "==============================================================================\n",
       "                 coef    std err          t      P>|t|      [0.025      0.975]\n",
       "------------------------------------------------------------------------------\n",
       "const        -14.8045      4.866     -3.043      0.003     -24.470      -5.139\n",
       "X1             0.6887      1.908      0.361      0.719      -3.101       4.479\n",
       "X2            -0.4048      1.971     -0.205      0.838      -4.320       3.511\n",
       "X3             3.9898      0.425      9.385      0.000       3.145       4.834\n",
       "X4            -0.1117      0.629     -0.178      0.859      -1.360       1.137\n",
       "X5             7.8425      3.695      2.123      0.036       0.503      15.181\n",
       "X6             1.7484      0.902      1.938      0.056      -0.043       3.540\n",
       "X7            -0.1591      0.392     -0.406      0.686      -0.938       0.620\n",
       "X8             5.2811      1.486      3.554      0.001       2.330       8.232\n",
       "==============================================================================\n",
       "Omnibus:                        6.385   Durbin-Watson:                   1.652\n",
       "Prob(Omnibus):                  0.041   Jarque-Bera (JB):                5.917\n",
       "Skew:                          -0.580   Prob(JB):                       0.0519\n",
       "Kurtosis:                       3.275   Cond. No.                         165.\n",
       "==============================================================================\n",
       "\n",
       "Notes:\n",
       "[1] Standard Errors assume that the covariance matrix of the errors is correctly specified.\n",
       "\"\"\""
      ]
     },
     "execution_count": 64,
     "metadata": {},
     "output_type": "execute_result"
    }
   ],
   "source": [
    "x= data_2.iloc[:,[0,1,2,3,4,5,6,7]]\n",
    "y= data_2.iloc[:,[8]]\n",
    "import statsmodels.api as sm\n",
    "X = sm.add_constant(x) \n",
    "X.info()\n",
    "model = sm.OLS(y, X).fit()\n",
    "model.summary()"
   ]
  },
  {
   "cell_type": "markdown",
   "id": "befda82f",
   "metadata": {},
   "source": [
    "### The R2 value incresed significantly by adding X8 to independent variables."
   ]
  },
  {
   "cell_type": "code",
   "execution_count": null,
   "id": "f9d20686",
   "metadata": {},
   "outputs": [],
   "source": []
  }
 ],
 "metadata": {
  "kernelspec": {
   "display_name": "Python 3 (ipykernel)",
   "language": "python",
   "name": "python3"
  },
  "language_info": {
   "codemirror_mode": {
    "name": "ipython",
    "version": 3
   },
   "file_extension": ".py",
   "mimetype": "text/x-python",
   "name": "python",
   "nbconvert_exporter": "python",
   "pygments_lexer": "ipython3",
   "version": "3.9.7"
  }
 },
 "nbformat": 4,
 "nbformat_minor": 5
}
